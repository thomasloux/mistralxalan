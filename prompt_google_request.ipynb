{
 "cells": [
  {
   "cell_type": "code",
   "execution_count": 17,
   "metadata": {},
   "outputs": [],
   "source": [
    "import pandas as pd\n",
    "from tqdm import tqdm\n",
    "from mistralai import Mistral\n",
    "import time\n",
    "api_key = 'yktqmFUzBEkh5fYN5bhWcNO0TQngsAlC'\n",
    "client = Mistral(api_key=api_key)"
   ]
  },
  {
   "cell_type": "code",
   "execution_count": 5,
   "metadata": {},
   "outputs": [
    {
     "data": {
      "text/plain": [
       "\"Devant un exanthème roséoliforme fébrile de l'enfant, les principales étiologies sont (une ou plusieurs réponsesexactes):\""
      ]
     },
     "execution_count": 5,
     "metadata": {},
     "output_type": "execute_result"
    }
   ],
   "source": [
    "df = pd.read_csv('questions.csv')\n",
    "df['question'][0]"
   ]
  },
  {
   "cell_type": "code",
   "execution_count": 29,
   "metadata": {},
   "outputs": [],
   "source": [
    "empty_prompt = \"\"\"\n",
    "En tant qu'assistant, votre tâche est de générer une requête internet précise et efficace à entrer dans Google, qui correspond à la question posée. La requête doit être concise et cibler précisément le sujet de la question pour obtenir des informations pertinentes.\n",
    "Il ne faut pas écrire 'proposition vraie' ou similaire : ce vocabulaire est lié au contexte d'un qcm et n'est pas nécessaire pour notre requete internet\n",
    "La réponse doit être directement la requête, il ne faut pas écrire Requete dans la réponse\n",
    "\n",
    "Exemples :\n",
    "\n",
    "Question : Parmi les affirmations suivantes concernant les ostéopathies fragilisantes, laquelle (lesquelles) est (sont) exacte(s) ? Requête : ostéopathie fragilisante\n",
    "\n",
    "Question : Chez un patient traité depuis 2 jours pour une embolie pulmonaire proximale par héparine non fractionnée, le TCA ratio est à 6 et l’activité anti-Xa est mesurée au pic d’activité à 1,2 ui/ml, en absence de saignement, quelle(s) mesure(s) adoptez-vous immédiatement ? (une ou plusieurs réponses possibles) Requête : embolie pulmonaire héparine non fractionnée TCA élevé\n",
    "\n",
    "Veuillez générer une requête pour la question suivante :\n",
    "\n",
    "Question : \"\"\""
   ]
  },
  {
   "cell_type": "code",
   "execution_count": 30,
   "metadata": {},
   "outputs": [],
   "source": [
    "def answer_prompt_with_Mistral(prompt, client, temperature=0.):\n",
    "    chat_response = client.chat.complete(\n",
    "                model=\"mistral-large-latest\",\n",
    "                messages=[\n",
    "                    {\n",
    "                        \"role\": \"user\",\n",
    "                        \"content\": prompt\n",
    "                    },\n",
    "                ],\n",
    "                temperature=temperature\n",
    "            )\n",
    "    return chat_response.choices[0].message.content"
   ]
  },
  {
   "cell_type": "code",
   "execution_count": 34,
   "metadata": {},
   "outputs": [
    {
     "name": "stderr",
     "output_type": "stream",
     "text": [
      "  1%|          | 1/103 [00:01<02:42,  1.60s/it]"
     ]
    },
    {
     "name": "stdout",
     "output_type": "stream",
     "text": [
      "exanthème roséoliforme fébrile enfant étiologies\n"
     ]
    },
    {
     "name": "stderr",
     "output_type": "stream",
     "text": [
      "  2%|▏         | 2/103 [00:02<01:43,  1.03s/it]"
     ]
    },
    {
     "name": "stdout",
     "output_type": "stream",
     "text": [
      "insuffisance cardiaque propositions vraies\n"
     ]
    },
    {
     "name": "stderr",
     "output_type": "stream",
     "text": [
      "  3%|▎         | 3/103 [00:03<01:42,  1.02s/it]"
     ]
    },
    {
     "name": "stdout",
     "output_type": "stream",
     "text": [
      "prise en charge bronchectasies diffuses adulte épisodes infectieux répétition\n"
     ]
    },
    {
     "name": "stderr",
     "output_type": "stream",
     "text": [
      "  4%|▍         | 4/103 [00:05<02:10,  1.31s/it]"
     ]
    },
    {
     "name": "stdout",
     "output_type": "stream",
     "text": [
      "hémoptysie importante aspirine coronaropathie\n"
     ]
    },
    {
     "name": "stderr",
     "output_type": "stream",
     "text": [
      "  5%|▍         | 5/103 [00:07<02:34,  1.57s/it]"
     ]
    },
    {
     "name": "stdout",
     "output_type": "stream",
     "text": [
      "examen nécessaire pour leucémie lymphoïde chronique avec polyadénopathie\n"
     ]
    },
    {
     "name": "stderr",
     "output_type": "stream",
     "text": [
      "  6%|▌         | 6/103 [00:08<02:40,  1.65s/it]"
     ]
    },
    {
     "name": "stdout",
     "output_type": "stream",
     "text": [
      "examens biologiques leucémie myéloïde chronique\n"
     ]
    },
    {
     "name": "stderr",
     "output_type": "stream",
     "text": [
      "  7%|▋         | 7/103 [00:10<02:40,  1.67s/it]"
     ]
    },
    {
     "name": "stdout",
     "output_type": "stream",
     "text": [
      "ostéopathies fragilisantes affirmations exactes\n"
     ]
    },
    {
     "name": "stderr",
     "output_type": "stream",
     "text": [
      "  8%|▊         | 8/103 [00:12<03:01,  1.92s/it]"
     ]
    },
    {
     "name": "stdout",
     "output_type": "stream",
     "text": [
      "examens biologiques à prescrire pour subictère conjonctival et anémie\n"
     ]
    },
    {
     "name": "stderr",
     "output_type": "stream",
     "text": [
      "  9%|▊         | 9/103 [00:15<03:03,  1.96s/it]"
     ]
    },
    {
     "name": "stdout",
     "output_type": "stream",
     "text": [
      "endocardite à hémocultures négatives agents infectieux\n"
     ]
    },
    {
     "name": "stderr",
     "output_type": "stream",
     "text": [
      " 10%|▉         | 10/103 [00:18<03:38,  2.35s/it]"
     ]
    },
    {
     "name": "stdout",
     "output_type": "stream",
     "text": [
      "maladies infectieuses à déclaration obligatoire en France\n"
     ]
    },
    {
     "name": "stderr",
     "output_type": "stream",
     "text": [
      " 11%|█         | 11/103 [00:22<04:34,  2.99s/it]"
     ]
    },
    {
     "name": "stdout",
     "output_type": "stream",
     "text": [
      "embolie pulmonaire héparine non fractionnée TCA élevé activité anti-Xa\n"
     ]
    },
    {
     "name": "stderr",
     "output_type": "stream",
     "text": [
      " 12%|█▏        | 12/103 [00:25<04:37,  3.04s/it]"
     ]
    },
    {
     "name": "stdout",
     "output_type": "stream",
     "text": [
      "hématome profond spontané muscle psoas facteur VIII 4%\n"
     ]
    },
    {
     "name": "stderr",
     "output_type": "stream",
     "text": [
      " 13%|█▎        | 13/103 [00:30<05:08,  3.43s/it]"
     ]
    },
    {
     "name": "stdout",
     "output_type": "stream",
     "text": [
      "risques irradiation grossesse 8 semaines polytraumatisme fracture rate\n"
     ]
    },
    {
     "name": "stderr",
     "output_type": "stream",
     "text": [
      " 14%|█▎        | 14/103 [00:34<05:33,  3.75s/it]"
     ]
    },
    {
     "name": "stdout",
     "output_type": "stream",
     "text": [
      "consultation préconceptionnelle hypertension artérielle perindopril contraception oestro-progestative arrêt tabac\n"
     ]
    },
    {
     "name": "stderr",
     "output_type": "stream",
     "text": [
      " 15%|█▍        | 15/103 [00:35<04:17,  2.93s/it]"
     ]
    },
    {
     "name": "stdout",
     "output_type": "stream",
     "text": [
      "tuméfaction sein quadrant supéro-externe examens première intention\n"
     ]
    },
    {
     "name": "stderr",
     "output_type": "stream",
     "text": [
      " 16%|█▌        | 16/103 [00:41<05:41,  3.92s/it]"
     ]
    },
    {
     "name": "stdout",
     "output_type": "stream",
     "text": [
      "contraception après césarienne et antécédents médicaux\n"
     ]
    },
    {
     "name": "stderr",
     "output_type": "stream",
     "text": [
      " 17%|█▋        | 17/103 [00:43<04:25,  3.09s/it]"
     ]
    },
    {
     "name": "stdout",
     "output_type": "stream",
     "text": [
      "examen urgence corps étranger intra-oculaire métallique\n"
     ]
    },
    {
     "name": "stderr",
     "output_type": "stream",
     "text": [
      " 17%|█▋        | 18/103 [00:45<04:14,  2.99s/it]"
     ]
    },
    {
     "name": "stdout",
     "output_type": "stream",
     "text": [
      "interruption volontaire de grossesse France\n"
     ]
    },
    {
     "name": "stderr",
     "output_type": "stream",
     "text": [
      " 18%|█▊        | 19/103 [00:46<03:10,  2.27s/it]"
     ]
    },
    {
     "name": "stdout",
     "output_type": "stream",
     "text": [
      "chalazion traitement\n"
     ]
    },
    {
     "name": "stderr",
     "output_type": "stream",
     "text": [
      " 19%|█▉        | 20/103 [00:58<07:00,  5.07s/it]"
     ]
    },
    {
     "name": "stdout",
     "output_type": "stream",
     "text": [
      "étiologies baisse acuité visuelle rougeur oculaire\n"
     ]
    },
    {
     "name": "stderr",
     "output_type": "stream",
     "text": [
      " 20%|██        | 21/103 [00:58<05:05,  3.73s/it]"
     ]
    },
    {
     "name": "stdout",
     "output_type": "stream",
     "text": [
      "myopie traitement options\n"
     ]
    },
    {
     "name": "stderr",
     "output_type": "stream",
     "text": [
      " 21%|██▏       | 22/103 [01:06<06:30,  4.82s/it]"
     ]
    },
    {
     "name": "stdout",
     "output_type": "stream",
     "text": [
      "arthroplastie de genou œdème inflammatoire post-opératoire\n"
     ]
    },
    {
     "name": "stderr",
     "output_type": "stream",
     "text": [
      " 22%|██▏       | 23/103 [01:10<06:08,  4.60s/it]"
     ]
    },
    {
     "name": "stdout",
     "output_type": "stream",
     "text": [
      "soins escarre trochanter stade 4 purulente\n"
     ]
    },
    {
     "name": "stderr",
     "output_type": "stream",
     "text": [
      " 23%|██▎       | 24/103 [01:14<05:51,  4.46s/it]"
     ]
    },
    {
     "name": "stdout",
     "output_type": "stream",
     "text": [
      "orthèse articulée de genou entorse prescription\n"
     ]
    },
    {
     "name": "stderr",
     "output_type": "stream",
     "text": [
      " 24%|██▍       | 25/103 [01:14<04:15,  3.27s/it]"
     ]
    },
    {
     "name": "stdout",
     "output_type": "stream",
     "text": [
      "syndrome du canal carpien\n"
     ]
    },
    {
     "name": "stderr",
     "output_type": "stream",
     "text": [
      " 25%|██▌       | 26/103 [01:21<05:41,  4.44s/it]"
     ]
    },
    {
     "name": "stdout",
     "output_type": "stream",
     "text": [
      "arthrose du genou\n"
     ]
    },
    {
     "name": "stderr",
     "output_type": "stream",
     "text": [
      " 26%|██▌       | 27/103 [01:26<05:39,  4.46s/it]"
     ]
    },
    {
     "name": "stdout",
     "output_type": "stream",
     "text": [
      "spondylodiscite IRM lombaire contre-indications prothèse totale de hanche prothèse valvulaire stent coronaire éclats métalliques\n"
     ]
    },
    {
     "name": "stderr",
     "output_type": "stream",
     "text": [
      " 27%|██▋       | 28/103 [01:29<05:00,  4.00s/it]"
     ]
    },
    {
     "name": "stdout",
     "output_type": "stream",
     "text": [
      "paralysie nerf oculo-moteur (iii) symptômes\n"
     ]
    },
    {
     "name": "stderr",
     "output_type": "stream",
     "text": [
      " 28%|██▊       | 29/103 [01:30<03:48,  3.09s/it]"
     ]
    },
    {
     "name": "stdout",
     "output_type": "stream",
     "text": [
      "hypertension intracranienne idiopathique symptômes\n"
     ]
    },
    {
     "name": "stderr",
     "output_type": "stream",
     "text": [
      " 29%|██▉       | 30/103 [01:36<04:47,  3.94s/it]"
     ]
    },
    {
     "name": "stdout",
     "output_type": "stream",
     "text": [
      "tremblement main droite aggravé par\n"
     ]
    },
    {
     "name": "stderr",
     "output_type": "stream",
     "text": [
      " 30%|███       | 31/103 [01:40<04:40,  3.90s/it]"
     ]
    },
    {
     "name": "stdout",
     "output_type": "stream",
     "text": [
      "vessie neurologique centrale\n"
     ]
    },
    {
     "name": "stderr",
     "output_type": "stream",
     "text": [
      " 31%|███       | 32/103 [01:40<03:27,  2.92s/it]"
     ]
    },
    {
     "name": "stdout",
     "output_type": "stream",
     "text": [
      "aliments contenant plus de 5% de glucides\n"
     ]
    },
    {
     "name": "stderr",
     "output_type": "stream",
     "text": [
      " 32%|███▏      | 33/103 [01:48<05:14,  4.49s/it]"
     ]
    },
    {
     "name": "stdout",
     "output_type": "stream",
     "text": [
      "signes biologiques insuffisance surrénale iatrogène prednisone\n"
     ]
    },
    {
     "name": "stderr",
     "output_type": "stream",
     "text": [
      " 33%|███▎      | 34/103 [01:52<04:49,  4.19s/it]"
     ]
    },
    {
     "name": "stdout",
     "output_type": "stream",
     "text": [
      "nouveau-né fièvre isolée 38,2°c état général conservé\n"
     ]
    },
    {
     "name": "stderr",
     "output_type": "stream",
     "text": [
      " 34%|███▍      | 35/103 [01:55<04:19,  3.82s/it]"
     ]
    },
    {
     "name": "stdout",
     "output_type": "stream",
     "text": [
      "lésion de la langue signe clinique origine maligne\n"
     ]
    },
    {
     "name": "stderr",
     "output_type": "stream",
     "text": [
      " 35%|███▍      | 36/103 [01:55<03:11,  2.86s/it]"
     ]
    },
    {
     "name": "stdout",
     "output_type": "stream",
     "text": [
      "nourrisson décédé domicile parents\n"
     ]
    },
    {
     "name": "stderr",
     "output_type": "stream",
     "text": [
      " 36%|███▌      | 37/103 [02:02<04:32,  4.12s/it]"
     ]
    },
    {
     "name": "stdout",
     "output_type": "stream",
     "text": [
      "mesures à prendre premier épisode fébrile enfant\n"
     ]
    },
    {
     "name": "stderr",
     "output_type": "stream",
     "text": [
      " 37%|███▋      | 38/103 [02:05<04:03,  3.75s/it]"
     ]
    },
    {
     "name": "stdout",
     "output_type": "stream",
     "text": [
      "tuméfactions cervicales\n"
     ]
    },
    {
     "name": "stderr",
     "output_type": "stream",
     "text": [
      " 38%|███▊      | 39/103 [02:14<05:26,  5.10s/it]"
     ]
    },
    {
     "name": "stdout",
     "output_type": "stream",
     "text": [
      "phlegmon péri-amygdalien symptômes traitement\n"
     ]
    },
    {
     "name": "stderr",
     "output_type": "stream",
     "text": [
      " 39%|███▉      | 40/103 [02:16<04:36,  4.38s/it]"
     ]
    },
    {
     "name": "stdout",
     "output_type": "stream",
     "text": [
      "vertige positionnel paroxystique bénin symptômes traitement\n"
     ]
    },
    {
     "name": "stderr",
     "output_type": "stream",
     "text": [
      " 40%|███▉      | 41/103 [02:21<04:43,  4.57s/it]"
     ]
    },
    {
     "name": "stdout",
     "output_type": "stream",
     "text": [
      "augmentation des transaminases causes possibles\n"
     ]
    },
    {
     "name": "stderr",
     "output_type": "stream",
     "text": [
      " 41%|████      | 42/103 [02:22<03:31,  3.47s/it]"
     ]
    },
    {
     "name": "stdout",
     "output_type": "stream",
     "text": [
      "hyponatrémie euvolémique causes bilan biologique\n"
     ]
    },
    {
     "name": "stderr",
     "output_type": "stream",
     "text": [
      " 42%|████▏     | 43/103 [02:29<04:36,  4.61s/it]"
     ]
    },
    {
     "name": "stdout",
     "output_type": "stream",
     "text": [
      "hématémèse hépatite virale B ascite asterixis pression artérielle basse pronostic\n"
     ]
    },
    {
     "name": "stderr",
     "output_type": "stream",
     "text": [
      " 43%|████▎     | 44/103 [02:32<04:03,  4.12s/it]"
     ]
    },
    {
     "name": "stdout",
     "output_type": "stream",
     "text": [
      "médicaments causant hyperkaliémie et insuffisance rénale\n"
     ]
    },
    {
     "name": "stderr",
     "output_type": "stream",
     "text": [
      " 44%|████▎     | 45/103 [02:33<03:00,  3.10s/it]"
     ]
    },
    {
     "name": "stdout",
     "output_type": "stream",
     "text": [
      "douleur mollet droit cancer évolutif échodoppler veineux TVP\n"
     ]
    },
    {
     "name": "stderr",
     "output_type": "stream",
     "text": [
      " 45%|████▍     | 46/103 [02:40<03:57,  4.16s/it]"
     ]
    },
    {
     "name": "stdout",
     "output_type": "stream",
     "text": [
      "hyperferritinémie modérée hépatosidérose métabolique\n"
     ]
    },
    {
     "name": "stderr",
     "output_type": "stream",
     "text": [
      " 46%|████▌     | 47/103 [02:41<03:02,  3.25s/it]"
     ]
    },
    {
     "name": "stdout",
     "output_type": "stream",
     "text": [
      "diverticulite sigmoïdienne tomodensitométrie abdomino-pelvienne injectée\n"
     ]
    },
    {
     "name": "stderr",
     "output_type": "stream",
     "text": [
      " 47%|████▋     | 48/103 [02:48<03:56,  4.30s/it]"
     ]
    },
    {
     "name": "stdout",
     "output_type": "stream",
     "text": [
      "exonération ticket modérateur sécurité sociale\n"
     ]
    },
    {
     "name": "stderr",
     "output_type": "stream",
     "text": [
      " 48%|████▊     | 49/103 [02:51<03:30,  3.89s/it]"
     ]
    },
    {
     "name": "stdout",
     "output_type": "stream",
     "text": [
      "hypertension artérielle causes bilan biologique\n"
     ]
    },
    {
     "name": "stderr",
     "output_type": "stream",
     "text": [
      " 49%|████▊     | 50/103 [02:55<03:33,  4.03s/it]"
     ]
    },
    {
     "name": "stdout",
     "output_type": "stream",
     "text": [
      "marqueur tumoral dépistage diagnostic pronostic suivi cancer spécifique\n"
     ]
    },
    {
     "name": "stderr",
     "output_type": "stream",
     "text": [
      " 50%|████▉     | 51/103 [02:56<02:38,  3.05s/it]"
     ]
    },
    {
     "name": "stdout",
     "output_type": "stream",
     "text": [
      "loi claeys-leonetti procédure collégiale suspension traitement\n"
     ]
    },
    {
     "name": "stderr",
     "output_type": "stream",
     "text": [
      " 50%|█████     | 52/103 [03:02<03:24,  4.00s/it]"
     ]
    },
    {
     "name": "stdout",
     "output_type": "stream",
     "text": [
      "évaluation dimension qualitative douleur\n"
     ]
    },
    {
     "name": "stderr",
     "output_type": "stream",
     "text": [
      " 51%|█████▏    | 53/103 [03:03<02:29,  2.98s/it]"
     ]
    },
    {
     "name": "stdout",
     "output_type": "stream",
     "text": [
      "douleur neuropathique traitement première intention\n"
     ]
    },
    {
     "name": "stderr",
     "output_type": "stream",
     "text": [
      " 52%|█████▏    | 54/103 [03:10<03:29,  4.29s/it]"
     ]
    },
    {
     "name": "stdout",
     "output_type": "stream",
     "text": [
      "prise en charge dyspnée insuffisance respiratoire emphysème soins palliatifs\n"
     ]
    },
    {
     "name": "stderr",
     "output_type": "stream",
     "text": [
      " 53%|█████▎    | 55/103 [03:14<03:20,  4.18s/it]"
     ]
    },
    {
     "name": "stdout",
     "output_type": "stream",
     "text": [
      "chirurgie de l'obésité gastrectomie longitudinale indications\n"
     ]
    },
    {
     "name": "stderr",
     "output_type": "stream",
     "text": [
      " 54%|█████▍    | 56/103 [03:22<04:08,  5.28s/it]"
     ]
    },
    {
     "name": "stdout",
     "output_type": "stream",
     "text": [
      "diagnostic hypertension artérielle protéinurie hématurie créatininémie biopsie rénale dépôts IgA C3\n"
     ]
    },
    {
     "name": "stderr",
     "output_type": "stream",
     "text": [
      " 55%|█████▌    | 57/103 [03:25<03:35,  4.68s/it]"
     ]
    },
    {
     "name": "stdout",
     "output_type": "stream",
     "text": [
      "eczéma de contact allergique origine professionnelle plasturgie fabrication bateaux de plaisance\n"
     ]
    },
    {
     "name": "stderr",
     "output_type": "stream",
     "text": [
      " 56%|█████▋    | 58/103 [03:26<02:42,  3.62s/it]"
     ]
    },
    {
     "name": "stdout",
     "output_type": "stream",
     "text": [
      "déclaration de maladie professionnelle insomnie ruminations anxieuses perte d'élan vital désinvestissement familial professionnel harcèlement moral\n"
     ]
    },
    {
     "name": "stderr",
     "output_type": "stream",
     "text": [
      " 57%|█████▋    | 59/103 [03:32<03:13,  4.41s/it]"
     ]
    },
    {
     "name": "stdout",
     "output_type": "stream",
     "text": [
      "mesures à prendre pour une infirmière enceinte exposée au méningocoque\n"
     ]
    },
    {
     "name": "stderr",
     "output_type": "stream",
     "text": [
      " 58%|█████▊    | 60/103 [03:40<03:49,  5.34s/it]"
     ]
    },
    {
     "name": "stdout",
     "output_type": "stream",
     "text": [
      "mesures d'hygiène tuberculose pulmonaire chambre patient\n"
     ]
    },
    {
     "name": "stderr",
     "output_type": "stream",
     "text": [
      " 59%|█████▉    | 61/103 [03:41<02:48,  4.00s/it]"
     ]
    },
    {
     "name": "stdout",
     "output_type": "stream",
     "text": [
      "vaccinations obligatoires infirmière hôpital service de soins\n"
     ]
    },
    {
     "name": "stderr",
     "output_type": "stream",
     "text": [
      " 60%|██████    | 62/103 [03:47<03:11,  4.68s/it]"
     ]
    },
    {
     "name": "stdout",
     "output_type": "stream",
     "text": [
      "péritonite aiguë symptômes traitement\n"
     ]
    },
    {
     "name": "stderr",
     "output_type": "stream",
     "text": [
      " 61%|██████    | 63/103 [03:48<02:19,  3.49s/it]"
     ]
    },
    {
     "name": "stdout",
     "output_type": "stream",
     "text": [
      "occlusion intestinale aiguë informations exactes\n"
     ]
    },
    {
     "name": "stderr",
     "output_type": "stream",
     "text": [
      " 62%|██████▏   | 64/103 [03:55<02:57,  4.56s/it]"
     ]
    },
    {
     "name": "stdout",
     "output_type": "stream",
     "text": [
      "syndrome occlusif\n"
     ]
    },
    {
     "name": "stderr",
     "output_type": "stream",
     "text": [
      " 63%|██████▎   | 65/103 [03:59<02:48,  4.44s/it]"
     ]
    },
    {
     "name": "stdout",
     "output_type": "stream",
     "text": [
      "anomalies bilan martial hépatomégalie diabète ferritine élevée\n"
     ]
    },
    {
     "name": "stderr",
     "output_type": "stream",
     "text": [
      " 64%|██████▍   | 66/103 [04:02<02:27,  3.98s/it]"
     ]
    },
    {
     "name": "stdout",
     "output_type": "stream",
     "text": [
      "polytraumatisé état de choc hémorragique sévère\n"
     ]
    },
    {
     "name": "stderr",
     "output_type": "stream",
     "text": [
      " 65%|██████▌   | 67/103 [04:07<02:31,  4.20s/it]"
     ]
    },
    {
     "name": "stdout",
     "output_type": "stream",
     "text": [
      "asthénie fièvre odynophagie myalgies adénopathies cervicales splénomégalie lymphocytes hyper-basophiles examens complémentaires\n"
     ]
    },
    {
     "name": "stderr",
     "output_type": "stream",
     "text": [
      " 66%|██████▌   | 68/103 [04:10<02:15,  3.86s/it]"
     ]
    },
    {
     "name": "stdout",
     "output_type": "stream",
     "text": [
      "claudication douleur mollet droit absence pouls poplité droit souffle iliaque gauche\n"
     ]
    },
    {
     "name": "stderr",
     "output_type": "stream",
     "text": [
      " 67%|██████▋   | 69/103 [04:10<01:37,  2.86s/it]"
     ]
    },
    {
     "name": "stdout",
     "output_type": "stream",
     "text": [
      "souffle insuffisance mitrale\n"
     ]
    },
    {
     "name": "stderr",
     "output_type": "stream",
     "text": [
      " 68%|██████▊   | 70/103 [04:19<02:29,  4.52s/it]"
     ]
    },
    {
     "name": "stdout",
     "output_type": "stream",
     "text": [
      "Dans un essai clinique, l'attribution aléatoire (randomisation) du traitement évalué est destinée à\n"
     ]
    },
    {
     "name": "stderr",
     "output_type": "stream",
     "text": [
      " 69%|██████▉   | 71/103 [04:21<02:08,  4.02s/it]"
     ]
    },
    {
     "name": "stdout",
     "output_type": "stream",
     "text": [
      "étude épidémiologique étiologique transversale mesures d'association\n"
     ]
    },
    {
     "name": "stderr",
     "output_type": "stream",
     "text": [
      " 70%|██████▉   | 72/103 [04:30<02:50,  5.49s/it]"
     ]
    },
    {
     "name": "stdout",
     "output_type": "stream",
     "text": [
      "infections bactériennes sans hyperleucocytose\n"
     ]
    },
    {
     "name": "stderr",
     "output_type": "stream",
     "text": [
      " 71%|███████   | 73/103 [04:31<02:02,  4.09s/it]"
     ]
    },
    {
     "name": "stdout",
     "output_type": "stream",
     "text": [
      "parasitoses transmission contact cutané eau sol humide\n"
     ]
    },
    {
     "name": "stderr",
     "output_type": "stream",
     "text": [
      " 72%|███████▏  | 74/103 [04:37<02:17,  4.73s/it]"
     ]
    },
    {
     "name": "stdout",
     "output_type": "stream",
     "text": [
      "certificat médical descriptif de lésions secondaires à des violences\n"
     ]
    },
    {
     "name": "stderr",
     "output_type": "stream",
     "text": [
      " 73%|███████▎  | 75/103 [04:38<01:40,  3.59s/it]"
     ]
    },
    {
     "name": "stdout",
     "output_type": "stream",
     "text": [
      "essai contrôlé randomisé prospectif contre placebo absence de différence statistiquement significative\n"
     ]
    },
    {
     "name": "stderr",
     "output_type": "stream",
     "text": [
      " 74%|███████▍  | 76/103 [04:45<02:05,  4.66s/it]"
     ]
    },
    {
     "name": "stdout",
     "output_type": "stream",
     "text": [
      "syndrome de l'enfant secoué\n"
     ]
    },
    {
     "name": "stderr",
     "output_type": "stream",
     "text": [
      " 75%|███████▍  | 77/103 [04:46<01:30,  3.48s/it]"
     ]
    },
    {
     "name": "stdout",
     "output_type": "stream",
     "text": [
      "certificat de décès volet administratif transmission électronique papier\n"
     ]
    },
    {
     "name": "stderr",
     "output_type": "stream",
     "text": [
      " 76%|███████▌  | 78/103 [04:54<01:59,  4.78s/it]"
     ]
    },
    {
     "name": "stdout",
     "output_type": "stream",
     "text": [
      "syndrome du qt long congénital transmission autosomique dominante prise en charge préventive\n"
     ]
    },
    {
     "name": "stderr",
     "output_type": "stream",
     "text": [
      " 77%|███████▋  | 79/103 [04:55<01:23,  3.50s/it]"
     ]
    },
    {
     "name": "stdout",
     "output_type": "stream",
     "text": [
      "itt signification pénal\n"
     ]
    },
    {
     "name": "stderr",
     "output_type": "stream",
     "text": [
      " 78%|███████▊  | 80/103 [05:02<01:49,  4.75s/it]"
     ]
    },
    {
     "name": "stdout",
     "output_type": "stream",
     "text": [
      "hyperéchogénicité intestinale fœtale échographie morphologique 22 semaines\n"
     ]
    },
    {
     "name": "stderr",
     "output_type": "stream",
     "text": [
      " 79%|███████▊  | 81/103 [05:03<01:18,  3.55s/it]"
     ]
    },
    {
     "name": "stdout",
     "output_type": "stream",
     "text": [
      "objectifs prise en charge médico-légale victime violences sexuelles\n"
     ]
    },
    {
     "name": "stderr",
     "output_type": "stream",
     "text": [
      " 80%|███████▉  | 82/103 [05:09<01:30,  4.29s/it]"
     ]
    },
    {
     "name": "stdout",
     "output_type": "stream",
     "text": [
      "stratégies thérapeutiques asthme bpco\n"
     ]
    },
    {
     "name": "stderr",
     "output_type": "stream",
     "text": [
      " 81%|████████  | 83/103 [05:13<01:23,  4.17s/it]"
     ]
    },
    {
     "name": "stdout",
     "output_type": "stream",
     "text": [
      "conséquences association médicament inducteur cytochrome p450 3a4\n"
     ]
    },
    {
     "name": "stderr",
     "output_type": "stream",
     "text": [
      " 82%|████████▏ | 84/103 [05:17<01:17,  4.08s/it]"
     ]
    },
    {
     "name": "stdout",
     "output_type": "stream",
     "text": [
      "hyperkaliémie iatrogène causes\n"
     ]
    },
    {
     "name": "stderr",
     "output_type": "stream",
     "text": [
      " 83%|████████▎ | 85/103 [05:17<00:54,  3.01s/it]"
     ]
    },
    {
     "name": "stdout",
     "output_type": "stream",
     "text": [
      "antidotes des médicaments\n"
     ]
    },
    {
     "name": "stderr",
     "output_type": "stream",
     "text": [
      " 83%|████████▎ | 86/103 [05:26<01:18,  4.60s/it]"
     ]
    },
    {
     "name": "stdout",
     "output_type": "stream",
     "text": [
      "état d'excitation psychomotrice traitement monothérapie\n"
     ]
    },
    {
     "name": "stderr",
     "output_type": "stream",
     "text": [
      " 84%|████████▍ | 87/103 [05:26<00:54,  3.43s/it]"
     ]
    },
    {
     "name": "stdout",
     "output_type": "stream",
     "text": [
      "décision interruption médicale de grossesse\n"
     ]
    },
    {
     "name": "stderr",
     "output_type": "stream",
     "text": [
      " 85%|████████▌ | 88/103 [05:33<01:08,  4.55s/it]"
     ]
    },
    {
     "name": "stdout",
     "output_type": "stream",
     "text": [
      "dépression post-partum symptômes trouble bipolaire\n"
     ]
    },
    {
     "name": "stderr",
     "output_type": "stream",
     "text": [
      " 86%|████████▋ | 89/103 [05:42<01:19,  5.71s/it]"
     ]
    },
    {
     "name": "stdout",
     "output_type": "stream",
     "text": [
      "signes et symptômes épisode dépressif sujet âgé vs adulte jeune\n"
     ]
    },
    {
     "name": "stderr",
     "output_type": "stream",
     "text": [
      " 87%|████████▋ | 90/103 [05:46<01:08,  5.23s/it]"
     ]
    },
    {
     "name": "stdout",
     "output_type": "stream",
     "text": [
      "symptômes sevrage opiacés\n"
     ]
    },
    {
     "name": "stderr",
     "output_type": "stream",
     "text": [
      " 88%|████████▊ | 91/103 [05:49<00:53,  4.47s/it]"
     ]
    },
    {
     "name": "stdout",
     "output_type": "stream",
     "text": [
      "entretien motivationnel trouble usage alcool\n"
     ]
    },
    {
     "name": "stderr",
     "output_type": "stream",
     "text": [
      " 89%|████████▉ | 92/103 [05:53<00:50,  4.58s/it]"
     ]
    },
    {
     "name": "stdout",
     "output_type": "stream",
     "text": [
      "médicaments causant bradycardie\n"
     ]
    },
    {
     "name": "stderr",
     "output_type": "stream",
     "text": [
      " 90%|█████████ | 93/103 [05:54<00:34,  3.45s/it]"
     ]
    },
    {
     "name": "stdout",
     "output_type": "stream",
     "text": [
      "syndrome de trisomie 21\n"
     ]
    },
    {
     "name": "stderr",
     "output_type": "stream",
     "text": [
      " 91%|█████████▏| 94/103 [06:01<00:40,  4.52s/it]"
     ]
    },
    {
     "name": "stdout",
     "output_type": "stream",
     "text": [
      "lésions histologiques glomérulopathies\n"
     ]
    },
    {
     "name": "stderr",
     "output_type": "stream",
     "text": [
      " 92%|█████████▏| 95/103 [06:02<00:28,  3.53s/it]"
     ]
    },
    {
     "name": "stdout",
     "output_type": "stream",
     "text": [
      "diagnostic histologique adénocarcinome prostatique cartographie biopsique\n"
     ]
    },
    {
     "name": "stderr",
     "output_type": "stream",
     "text": [
      " 93%|█████████▎| 96/103 [06:10<00:32,  4.65s/it]"
     ]
    },
    {
     "name": "stdout",
     "output_type": "stream",
     "text": [
      "examen extemporané prélèvement tissulaire anatomo-pathologie\n"
     ]
    },
    {
     "name": "stderr",
     "output_type": "stream",
     "text": [
      " 94%|█████████▍| 97/103 [06:12<00:23,  3.99s/it]"
     ]
    },
    {
     "name": "stdout",
     "output_type": "stream",
     "text": [
      "hépatite alcoolique aiguë diagnostic ponction biopsie hépatique\n"
     ]
    },
    {
     "name": "stderr",
     "output_type": "stream",
     "text": [
      " 95%|█████████▌| 98/103 [06:18<00:21,  4.39s/it]"
     ]
    },
    {
     "name": "stdout",
     "output_type": "stream",
     "text": [
      "analyses de biologie moléculaire diagnostic anatomopathologique tumeur\n"
     ]
    },
    {
     "name": "stderr",
     "output_type": "stream",
     "text": [
      " 96%|█████████▌| 99/103 [06:26<00:22,  5.74s/it]"
     ]
    },
    {
     "name": "stdout",
     "output_type": "stream",
     "text": [
      "maladie d'alzheimer affirmations justes\n"
     ]
    },
    {
     "name": "stderr",
     "output_type": "stream",
     "text": [
      " 97%|█████████▋| 100/103 [06:29<00:14,  4.81s/it]"
     ]
    },
    {
     "name": "stdout",
     "output_type": "stream",
     "text": [
      "vieillissement des organes propositions justes\n"
     ]
    },
    {
     "name": "stderr",
     "output_type": "stream",
     "text": [
      " 98%|█████████▊| 101/103 [06:30<00:07,  3.54s/it]"
     ]
    },
    {
     "name": "stdout",
     "output_type": "stream",
     "text": [
      "syndrome de fragilité\n"
     ]
    },
    {
     "name": "stderr",
     "output_type": "stream",
     "text": [
      " 99%|█████████▉| 102/103 [06:37<00:04,  4.70s/it]"
     ]
    },
    {
     "name": "stdout",
     "output_type": "stream",
     "text": [
      "traumatisme crânien antivitamine K INR élevé pétéchie scanner cérébral prise en charge\n"
     ]
    },
    {
     "name": "stderr",
     "output_type": "stream",
     "text": [
      "100%|██████████| 103/103 [06:38<00:00,  3.87s/it]"
     ]
    },
    {
     "name": "stdout",
     "output_type": "stream",
     "text": [
      "dénutrition sévère sujet âgé critères\n"
     ]
    },
    {
     "name": "stderr",
     "output_type": "stream",
     "text": [
      "\n"
     ]
    }
   ],
   "source": [
    "google_requests = []\n",
    "for question in tqdm(df['question']):\n",
    "    prompt = empty_prompt + question\n",
    "    while True:\n",
    "        try:\n",
    "            answer = answer_prompt_with_Mistral(prompt, client, temperature=0.)\n",
    "            break\n",
    "        except:\n",
    "            time.sleep(1)\n",
    "    google_requests.append(answer)\n",
    "    print(answer)"
   ]
  },
  {
   "cell_type": "code",
   "execution_count": 37,
   "metadata": {},
   "outputs": [],
   "source": [
    "df_queries = pd.DataFrame(google_requests, columns=[\"Query\"])\n",
    "df_queries.to_csv(\"google_queries.csv\", index=False)"
   ]
  },
  {
   "cell_type": "code",
   "execution_count": 35,
   "metadata": {},
   "outputs": [
    {
     "data": {
      "text/plain": [
       "['exanthème roséoliforme fébrile enfant étiologies',\n",
       " 'insuffisance cardiaque propositions vraies',\n",
       " 'prise en charge bronchectasies diffuses adulte épisodes infectieux répétition',\n",
       " 'hémoptysie importante aspirine coronaropathie',\n",
       " 'examen nécessaire pour leucémie lymphoïde chronique avec polyadénopathie',\n",
       " 'examens biologiques leucémie myéloïde chronique',\n",
       " 'ostéopathies fragilisantes affirmations exactes',\n",
       " 'examens biologiques à prescrire pour subictère conjonctival et anémie',\n",
       " 'endocardite à hémocultures négatives agents infectieux',\n",
       " 'maladies infectieuses à déclaration obligatoire en France',\n",
       " 'embolie pulmonaire héparine non fractionnée TCA élevé activité anti-Xa',\n",
       " 'hématome profond spontané muscle psoas facteur VIII 4%',\n",
       " 'risques irradiation grossesse 8 semaines polytraumatisme fracture rate',\n",
       " 'consultation préconceptionnelle hypertension artérielle perindopril contraception oestro-progestative arrêt tabac',\n",
       " 'tuméfaction sein quadrant supéro-externe examens première intention',\n",
       " 'contraception après césarienne et antécédents médicaux',\n",
       " 'examen urgence corps étranger intra-oculaire métallique',\n",
       " 'interruption volontaire de grossesse France',\n",
       " 'chalazion traitement',\n",
       " 'étiologies baisse acuité visuelle rougeur oculaire',\n",
       " 'myopie traitement options',\n",
       " 'arthroplastie de genou œdème inflammatoire post-opératoire',\n",
       " 'soins escarre trochanter stade 4 purulente',\n",
       " 'orthèse articulée de genou entorse prescription',\n",
       " 'syndrome du canal carpien',\n",
       " 'arthrose du genou',\n",
       " 'spondylodiscite IRM lombaire contre-indications prothèse totale de hanche prothèse valvulaire stent coronaire éclats métalliques',\n",
       " 'paralysie nerf oculo-moteur (iii) symptômes',\n",
       " 'hypertension intracranienne idiopathique symptômes',\n",
       " 'tremblement main droite aggravé par',\n",
       " 'vessie neurologique centrale',\n",
       " 'aliments contenant plus de 5% de glucides',\n",
       " 'signes biologiques insuffisance surrénale iatrogène prednisone',\n",
       " 'nouveau-né fièvre isolée 38,2°c état général conservé',\n",
       " 'lésion de la langue signe clinique origine maligne',\n",
       " 'nourrisson décédé domicile parents',\n",
       " 'mesures à prendre premier épisode fébrile enfant',\n",
       " 'tuméfactions cervicales',\n",
       " 'phlegmon péri-amygdalien symptômes traitement',\n",
       " 'vertige positionnel paroxystique bénin symptômes traitement',\n",
       " 'augmentation des transaminases causes possibles',\n",
       " 'hyponatrémie euvolémique causes bilan biologique',\n",
       " 'hématémèse hépatite virale B ascite asterixis pression artérielle basse pronostic',\n",
       " 'médicaments causant hyperkaliémie et insuffisance rénale',\n",
       " 'douleur mollet droit cancer évolutif échodoppler veineux TVP',\n",
       " 'hyperferritinémie modérée hépatosidérose métabolique',\n",
       " 'diverticulite sigmoïdienne tomodensitométrie abdomino-pelvienne injectée',\n",
       " 'exonération ticket modérateur sécurité sociale',\n",
       " 'hypertension artérielle causes bilan biologique',\n",
       " 'marqueur tumoral dépistage diagnostic pronostic suivi cancer spécifique',\n",
       " 'loi claeys-leonetti procédure collégiale suspension traitement',\n",
       " 'évaluation dimension qualitative douleur',\n",
       " 'douleur neuropathique traitement première intention',\n",
       " 'prise en charge dyspnée insuffisance respiratoire emphysème soins palliatifs',\n",
       " \"chirurgie de l'obésité gastrectomie longitudinale indications\",\n",
       " 'diagnostic hypertension artérielle protéinurie hématurie créatininémie biopsie rénale dépôts IgA C3',\n",
       " 'eczéma de contact allergique origine professionnelle plasturgie fabrication bateaux de plaisance',\n",
       " \"déclaration de maladie professionnelle insomnie ruminations anxieuses perte d'élan vital désinvestissement familial professionnel harcèlement moral\",\n",
       " 'mesures à prendre pour une infirmière enceinte exposée au méningocoque',\n",
       " \"mesures d'hygiène tuberculose pulmonaire chambre patient\",\n",
       " 'vaccinations obligatoires infirmière hôpital service de soins',\n",
       " 'péritonite aiguë symptômes traitement',\n",
       " 'occlusion intestinale aiguë informations exactes',\n",
       " 'syndrome occlusif',\n",
       " 'anomalies bilan martial hépatomégalie diabète ferritine élevée',\n",
       " 'polytraumatisé état de choc hémorragique sévère',\n",
       " 'asthénie fièvre odynophagie myalgies adénopathies cervicales splénomégalie lymphocytes hyper-basophiles examens complémentaires',\n",
       " 'claudication douleur mollet droit absence pouls poplité droit souffle iliaque gauche',\n",
       " 'souffle insuffisance mitrale',\n",
       " \"Dans un essai clinique, l'attribution aléatoire (randomisation) du traitement évalué est destinée à\",\n",
       " \"étude épidémiologique étiologique transversale mesures d'association\",\n",
       " 'infections bactériennes sans hyperleucocytose',\n",
       " 'parasitoses transmission contact cutané eau sol humide',\n",
       " 'certificat médical descriptif de lésions secondaires à des violences',\n",
       " 'essai contrôlé randomisé prospectif contre placebo absence de différence statistiquement significative',\n",
       " \"syndrome de l'enfant secoué\",\n",
       " 'certificat de décès volet administratif transmission électronique papier',\n",
       " 'syndrome du qt long congénital transmission autosomique dominante prise en charge préventive',\n",
       " 'itt signification pénal',\n",
       " 'hyperéchogénicité intestinale fœtale échographie morphologique 22 semaines',\n",
       " 'objectifs prise en charge médico-légale victime violences sexuelles',\n",
       " 'stratégies thérapeutiques asthme bpco',\n",
       " 'conséquences association médicament inducteur cytochrome p450 3a4',\n",
       " 'hyperkaliémie iatrogène causes',\n",
       " 'antidotes des médicaments',\n",
       " \"état d'excitation psychomotrice traitement monothérapie\",\n",
       " 'décision interruption médicale de grossesse',\n",
       " 'dépression post-partum symptômes trouble bipolaire',\n",
       " 'signes et symptômes épisode dépressif sujet âgé vs adulte jeune',\n",
       " 'symptômes sevrage opiacés',\n",
       " 'entretien motivationnel trouble usage alcool',\n",
       " 'médicaments causant bradycardie',\n",
       " 'syndrome de trisomie 21',\n",
       " 'lésions histologiques glomérulopathies',\n",
       " 'diagnostic histologique adénocarcinome prostatique cartographie biopsique',\n",
       " 'examen extemporané prélèvement tissulaire anatomo-pathologie',\n",
       " 'hépatite alcoolique aiguë diagnostic ponction biopsie hépatique',\n",
       " 'analyses de biologie moléculaire diagnostic anatomopathologique tumeur',\n",
       " \"maladie d'alzheimer affirmations justes\",\n",
       " 'vieillissement des organes propositions justes',\n",
       " 'syndrome de fragilité',\n",
       " 'traumatisme crânien antivitamine K INR élevé pétéchie scanner cérébral prise en charge',\n",
       " 'dénutrition sévère sujet âgé critères']"
      ]
     },
     "execution_count": 35,
     "metadata": {},
     "output_type": "execute_result"
    }
   ],
   "source": [
    "google_requests"
   ]
  }
 ],
 "metadata": {
  "kernelspec": {
   "display_name": "dac_env",
   "language": "python",
   "name": "python3"
  },
  "language_info": {
   "codemirror_mode": {
    "name": "ipython",
    "version": 3
   },
   "file_extension": ".py",
   "mimetype": "text/x-python",
   "name": "python",
   "nbconvert_exporter": "python",
   "pygments_lexer": "ipython3",
   "version": "3.9.19"
  },
  "orig_nbformat": 4,
  "vscode": {
   "interpreter": {
    "hash": "424e95bf5de250ac927228ed3185dfd2d42c497ade721b59c3c97ffc315799b7"
   }
  }
 },
 "nbformat": 4,
 "nbformat_minor": 2
}
