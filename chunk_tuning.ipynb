{
 "cells": [
  {
   "cell_type": "code",
   "execution_count": 23,
   "metadata": {},
   "outputs": [],
   "source": [
    "import pandas as pd\n",
    "import ast"
   ]
  },
  {
   "cell_type": "code",
   "execution_count": 3,
   "metadata": {},
   "outputs": [],
   "source": [
    "web_chunks_df = pd.read_csv('web_chunks.csv')\n",
    "wikipedia_chunks_df = pd.read_csv('chunks.csv', sep=\";\")"
   ]
  },
  {
   "cell_type": "code",
   "execution_count": 24,
   "metadata": {},
   "outputs": [],
   "source": [
    "def str_to_list(value):\n",
    "    try:\n",
    "        return ast.literal_eval(value)\n",
    "    except (ValueError, SyntaxError):\n",
    "        return value"
   ]
  },
  {
   "cell_type": "code",
   "execution_count": 25,
   "metadata": {},
   "outputs": [],
   "source": [
    "# Enlève les strings\n",
    "for col in wikipedia_chunks_df.columns:\n",
    "    wikipedia_chunks_df[col] = wikipedia_chunks_df[col].apply(str_to_list)\n",
    "    web_chunks_df[col] = web_chunks_df[col].apply(str_to_list)"
   ]
  },
  {
   "cell_type": "code",
   "execution_count": 11,
   "metadata": {},
   "outputs": [
    {
     "name": "stdout",
     "output_type": "stream",
     "text": [
      "0      [')\\nDiagnostic positif :\\néruption cutanée br...\n",
      "1                                                     []\n",
      "2                                                     []\n",
      "3                                                     []\n",
      "4      [\"et moléculaires effectuées à partir du sang ...\n",
      "                             ...                        \n",
      "98                                                    []\n",
      "99                                                    []\n",
      "100                                                   []\n",
      "101                                                   []\n",
      "102    ['et âgé\\nCritères de dénutrition de la\\nHAS 2...\n",
      "Name: 0, Length: 103, dtype: object\n",
      "0      [\"otifs de consultations aux urgences et sans ...\n",
      "1      [\"-auriculaire.\\nIl peut être perçu un « éclat...\n",
      "2      [\"oordination entre divers spécialistes tels q...\n",
      "3                                                     []\n",
      "4      [\"la numération formule sanguine à plus de 4 0...\n",
      "                             ...                        \n",
      "98                                                    []\n",
      "99                                                    []\n",
      "100    [\"orée par le Dr Rockwood et ses collègues de ...\n",
      "101                                                   []\n",
      "102                                                   []\n",
      "Name: 0, Length: 103, dtype: object\n"
     ]
    }
   ],
   "source": [
    "print(web_chunks_df['0'])\n",
    "print(wikipedia_chunks_df['0'])"
   ]
  },
  {
   "cell_type": "code",
   "execution_count": 32,
   "metadata": {},
   "outputs": [],
   "source": [
    "def merge_lists(list1, list2):\n",
    "    return list1 + list2"
   ]
  },
  {
   "cell_type": "code",
   "execution_count": 36,
   "metadata": {},
   "outputs": [
    {
     "name": "stdout",
     "output_type": "stream",
     "text": [
      "otifs de consultations aux urgences et sans rendez-vous.\n",
      "\n",
      "\n",
      "== Exanthème fébrile ==\n",
      "\n",
      "\n",
      "=== Exanthème maculo-papuleux ===\n",
      "Parmi les causes les plus fréquentes : la scarlatine, la rougeole, la rubéole, l'exanthème subit ou roséole infantile (appelée aussi 6e maladie, due à HHV6), la primo-infection à VIH ou EBV, exanthèmes des entéro-viroses, le megaléryhtème épidémique (5e maladie, dû à parvovirus B19), maladie de \n"
     ]
    }
   ],
   "source": [
    "merged_chunks_df = pd.DataFrame()\n",
    "\n",
    "\n",
    "for col in web_chunks_df.columns:\n",
    "    merged_chunks_df[col] = wikipedia_chunks_df[col].combine(web_chunks_df[col], merge_lists)\n",
    "\n",
    "print(merged_chunks_df['0'].tolist()[0][0])\n"
   ]
  },
  {
   "cell_type": "code",
   "execution_count": 38,
   "metadata": {},
   "outputs": [],
   "source": [
    "merged_chunks_df.to_csv('merged_chunks.csv', index=False)"
   ]
  }
 ],
 "metadata": {
  "kernelspec": {
   "display_name": "Python 3",
   "language": "python",
   "name": "python3"
  },
  "language_info": {
   "codemirror_mode": {
    "name": "ipython",
    "version": 3
   },
   "file_extension": ".py",
   "mimetype": "text/x-python",
   "name": "python",
   "nbconvert_exporter": "python",
   "pygments_lexer": "ipython3",
   "version": "3.9.6"
  },
  "orig_nbformat": 4,
  "vscode": {
   "interpreter": {
    "hash": "31f2aee4e71d21fbe5cf8b01ff0e069b9275f58929596ceb00d14d90e3e16cd6"
   }
  }
 },
 "nbformat": 4,
 "nbformat_minor": 2
}
