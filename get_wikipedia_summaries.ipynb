{
 "cells": [
  {
   "cell_type": "code",
   "execution_count": 3,
   "metadata": {},
   "outputs": [],
   "source": [
    "import wikipedia\n",
    "import pandas as pd\n",
    "from tqdm import tqdm"
   ]
  },
  {
   "cell_type": "code",
   "execution_count": 8,
   "metadata": {},
   "outputs": [],
   "source": [
    "def search_wikipedia(query):\n",
    "    try:\n",
    "        # Search Wikipedia with the provided query\n",
    "        wikipedia.set_lang(\"fr\")\n",
    "        search_results = wikipedia.search(query, results=1)\n",
    "        print(search_results)\n",
    "        # Fetch summaries for each result\n",
    "        results = []\n",
    "        for result in search_results:\n",
    "            try:\n",
    "                page = wikipedia.page(title=result, auto_suggest=True)\n",
    "                summary = wikipedia.summary(result, sentences=10)\n",
    "                return {\n",
    "                    \"title\": page.title,\n",
    "                    \"summary\": summary,\n",
    "                    \"url\": page.url\n",
    "                }\n",
    "            except wikipedia.exceptions.DisambiguationError as e:\n",
    "                print(f\"Disambiguation error for {result}: {e.options}\")\n",
    "            except wikipedia.exceptions.PageError:\n",
    "                print(f\"Page not found: {result}\")\n",
    "\n",
    "        return {}\n",
    "\n",
    "    except wikipedia.exceptions.HTTPTimeoutError:\n",
    "        print(\"Request timed out. Please try again.\")\n",
    "    except Exception as e:\n",
    "        print(f\"An error occurred: {e}\")\n"
   ]
  },
  {
   "cell_type": "code",
   "execution_count": 20,
   "metadata": {},
   "outputs": [],
   "source": [
    "keywords = pd.read_csv('key_words_formatted.csv')"
   ]
  },
  {
   "cell_type": "code",
   "execution_count": 34,
   "metadata": {},
   "outputs": [],
   "source": [
    "def get_wikipedia_summaries(keywords):\n",
    "    result = []\n",
    "    for i in tqdm(range(len(keywords))):\n",
    "    # for i in tqdm(range(2)):\n",
    "        keywords_i = keywords.iloc[i].tolist()[1:]\n",
    "        result_i = []\n",
    "        for k in keywords_i:\n",
    "            result_i.append(str(search_wikipedia(str(k))))\n",
    "        result.append(result_i)\n",
    "    result_df = pd.DataFrame(result)\n",
    "    result_df.to_csv('wikipedia_summaries.csv', index=False, header=False)\n",
    "    return result"
   ]
  },
  {
   "cell_type": "code",
   "execution_count": 35,
   "metadata": {},
   "outputs": [
    {
     "name": "stderr",
     "output_type": "stream",
     "text": [
      "  0%|          | 0/103 [00:00<?, ?it/s]"
     ]
    },
    {
     "name": "stdout",
     "output_type": "stream",
     "text": [
      "['Exanthème subit']\n",
      "['Mégalérythème épidémique']\n",
      "['Rubéole']\n",
      "['Mononucléose infectieuse']\n",
      "['Kawasaki Heavy Industries']\n"
     ]
    },
    {
     "name": "stderr",
     "output_type": "stream",
     "text": [
      "  1%|          | 1/103 [00:06<10:36,  6.24s/it]"
     ]
    },
    {
     "name": "stdout",
     "output_type": "stream",
     "text": [
      "['C/1996 B2 (Hyakutake)']\n",
      "['Souffle cardiaque']\n",
      "['Turgescence jugulaire']\n",
      "['Œdème papillaire']\n",
      "['Crépitant']\n"
     ]
    },
    {
     "name": "stderr",
     "output_type": "stream",
     "text": [
      "  2%|▏         | 2/103 [00:12<10:20,  6.15s/it]"
     ]
    },
    {
     "name": "stdout",
     "output_type": "stream",
     "text": [
      "['Pneumonectomie']\n",
      "['Pemphigoïde bulleuse']\n",
      "['Lobectomie pulmonaire']\n",
      "['Mucoviscidose']\n",
      "['Quinolone']\n"
     ]
    },
    {
     "name": "stderr",
     "output_type": "stream",
     "text": [
      "  3%|▎         | 3/103 [00:18<10:25,  6.26s/it]"
     ]
    },
    {
     "name": "stdout",
     "output_type": "stream",
     "text": [
      "[]\n",
      "['Remplissage vasculaire']\n",
      "[]\n",
      "['Tomodensitométrie']\n",
      "['Marche sur les eaux']\n"
     ]
    },
    {
     "name": "stderr",
     "output_type": "stream",
     "text": [
      "  4%|▍         | 4/103 [00:23<09:07,  5.53s/it]"
     ]
    },
    {
     "name": "stdout",
     "output_type": "stream",
     "text": [
      "['Aucun']\n",
      "['Tomographie par émission de positons']\n",
      "['Échocardiographie']\n",
      "['Myélogramme']\n",
      "['Scintigraphie osseuse']\n"
     ]
    },
    {
     "name": "stderr",
     "output_type": "stream",
     "text": [
      "  5%|▍         | 5/103 [00:29<09:35,  5.87s/it]"
     ]
    },
    {
     "name": "stdout",
     "output_type": "stream",
     "text": [
      "['Immunophénotypage']\n",
      "['Jolly']\n",
      "['Chromosome de Philadelphie']\n",
      "['André Gumprecht']\n",
      "['Janus kinase 2']\n"
     ]
    },
    {
     "name": "stderr",
     "output_type": "stream",
     "text": [
      "  6%|▌         | 6/103 [00:38<10:59,  6.80s/it]"
     ]
    },
    {
     "name": "stdout",
     "output_type": "stream",
     "text": [
      "['Hyperparathyroïdie']\n",
      "['Hypothyroïdie']\n",
      "['Cortisone']\n",
      "['Œstrogène']\n",
      "['Bisphosphonate']\n"
     ]
    },
    {
     "name": "stderr",
     "output_type": "stream",
     "text": [
      "  7%|▋         | 7/103 [00:44<10:28,  6.54s/it]"
     ]
    },
    {
     "name": "stdout",
     "output_type": "stream",
     "text": [
      "['Protéine C réactive']\n",
      "['Fer sérique']\n",
      "['Électrophorèse des protéines']\n",
      "['Réticulocyte']\n",
      "['LDH']\n"
     ]
    },
    {
     "name": "stderr",
     "output_type": "stream",
     "text": [
      "/Users/gaetannarozniak1/opt/anaconda3/envs/dac_env/lib/python3.9/site-packages/wikipedia/wikipedia.py:389: GuessedAtParserWarning: No parser was explicitly specified, so I'm using the best available HTML parser for this system (\"html.parser\"). This usually isn't a problem, but if you run this code on another system, or in a different virtual environment, it may use a different parser and behave differently.\n",
      "\n",
      "The code that caused this warning is on line 389 of the file /Users/gaetannarozniak1/opt/anaconda3/envs/dac_env/lib/python3.9/site-packages/wikipedia/wikipedia.py. To get rid of this warning, pass the additional argument 'features=\"html.parser\"' to the BeautifulSoup constructor.\n",
      "\n",
      "  lis = BeautifulSoup(html).find_all('li')\n",
      "  8%|▊         | 8/103 [00:50<10:14,  6.47s/it]"
     ]
    },
    {
     "name": "stdout",
     "output_type": "stream",
     "text": [
      "Disambiguation error for LDH: [\"Ligue des droits de l'homme\", 'Lactate déshydrogénase', 'formabilité', 'EHESS']\n",
      "['Mycobacterium']\n",
      "['Bartonella']\n",
      "['Streptocoque']\n",
      "['Coxiella burnetii']\n",
      "['Maladie de Whipple']\n"
     ]
    },
    {
     "name": "stderr",
     "output_type": "stream",
     "text": [
      "  9%|▊         | 9/103 [00:56<10:02,  6.41s/it]"
     ]
    },
    {
     "name": "stdout",
     "output_type": "stream",
     "text": [
      "['Rubéole']\n",
      "['Peste']\n",
      "Page not found: Peste\n",
      "['Tuberculose']\n",
      "['Légionellose']\n",
      "['Emphysème pulmonaire']\n"
     ]
    },
    {
     "name": "stderr",
     "output_type": "stream",
     "text": [
      " 10%|▉         | 10/103 [01:02<09:36,  6.20s/it]"
     ]
    },
    {
     "name": "stdout",
     "output_type": "stream",
     "text": [
      "['Vitamine K']\n",
      "Page not found: Vitamine K\n",
      "['Concentré de globules rouges']\n",
      "['Protamine']\n",
      "['Clozapine']\n",
      "['AVK']\n"
     ]
    },
    {
     "name": "stderr",
     "output_type": "stream",
     "text": [
      " 11%|█         | 11/103 [01:08<09:16,  6.04s/it]"
     ]
    },
    {
     "name": "stdout",
     "output_type": "stream",
     "text": [
      "Disambiguation error for AVK: ['avk', 'Arvaikheer', 'Kotava', 'ISO 639-3', \"étiquette d'identification de langues IETF\", 'Antagoniste de la vitamine K']\n",
      "['Lupus érythémateux disséminé']\n",
      "['Constitution']\n",
      "Disambiguation error for Constitution: ['institution', 'sociologie', 'institution internationale', 'institution disciplinaire', 'institution culturelle', 'institution scolaire', 'protection sociale', 'institution sociale ou médico-sociale', 'académies', '[1]', \"récit de l'institution\", 'droit pontifical', 'institution sans but lucratif au service des ménages', '↑', '']\n",
      "['Facteur VIII']\n",
      "Page not found: Facteur VIII\n",
      "['Maladie de Willebrand']\n",
      "[\"Syndrome d'immunodéficience acquise\"]\n"
     ]
    },
    {
     "name": "stderr",
     "output_type": "stream",
     "text": [
      " 12%|█▏        | 12/103 [01:14<09:20,  6.16s/it]"
     ]
    },
    {
     "name": "stdout",
     "output_type": "stream",
     "text": [
      "[\"Retard de développement de l'enfant\"]\n",
      "['Malformation artérioveineuse cérébrale']\n",
      "['Avortement']\n",
      "['Retard de croissance intra-utérin']\n",
      "['Hématome décidual marginal']\n"
     ]
    },
    {
     "name": "stderr",
     "output_type": "stream",
     "text": [
      " 13%|█▎        | 13/103 [01:21<09:32,  6.36s/it]"
     ]
    },
    {
     "name": "stdout",
     "output_type": "stream",
     "text": [
      "['Rubéole']\n",
      "['Substitut nicotinique']\n",
      "['Frottis']\n",
      "['Vitamine B9']\n",
      "Page not found: Vitamine B9\n",
      "['Souci officinal']\n"
     ]
    },
    {
     "name": "stderr",
     "output_type": "stream",
     "text": [
      " 14%|█▎        | 14/103 [01:27<09:08,  6.17s/it]"
     ]
    },
    {
     "name": "stdout",
     "output_type": "stream",
     "text": [
      "['Mammographie']\n",
      "Page not found: Mammographie\n",
      "['Radiographie du thorax']\n",
      "['CA 15.3']\n",
      "['IRM de diffusion']\n",
      "['Mammographie']\n"
     ]
    },
    {
     "name": "stderr",
     "output_type": "stream",
     "text": [
      " 15%|█▍        | 15/103 [01:32<08:51,  6.04s/it]"
     ]
    },
    {
     "name": "stdout",
     "output_type": "stream",
     "text": [
      "Page not found: Mammographie\n",
      "['Lévonorgestrel']\n",
      "['Cuivre']\n",
      "['Classe ATC G03']\n",
      "['Cœlioscopie']\n",
      "['Etonogestrel']\n"
     ]
    },
    {
     "name": "stderr",
     "output_type": "stream",
     "text": [
      " 16%|█▌        | 16/103 [01:39<08:59,  6.20s/it]"
     ]
    },
    {
     "name": "stdout",
     "output_type": "stream",
     "text": [
      "['Ophtalmologie']\n",
      "['Imagerie par résonance magnétique']\n",
      "['Rayon X']\n",
      "Page not found: Rayon X\n",
      "['Angiographie']\n",
      "['Tension oculaire']\n"
     ]
    },
    {
     "name": "stderr",
     "output_type": "stream",
     "text": [
      " 17%|█▋        | 17/103 [01:45<08:49,  6.16s/it]"
     ]
    },
    {
     "name": "stdout",
     "output_type": "stream",
     "text": [
      "['Tutelle']\n",
      "['Ross Ulbricht']\n",
      "['Dispositif intra-utérin']\n",
      "['Porphyrie']\n",
      "Disambiguation error for Porphyrie: ['porphyre', 'grec ancien', 'porphyre', 'Porphyre de Tyr', \"Porphyre l'Aurige\", 'Porphyre de Gaza', 'Porphyre', 'Porphyre', 'Porphyrie']\n",
      "['Interruption volontaire de grossesse en France']\n"
     ]
    },
    {
     "name": "stderr",
     "output_type": "stream",
     "text": [
      " 17%|█▋        | 18/103 [01:52<08:52,  6.26s/it]"
     ]
    },
    {
     "name": "stdout",
     "output_type": "stream",
     "text": [
      "['Follicule pileux']\n",
      "['Granulome annulaire']\n",
      "['Prednisolone']\n",
      "['Antibiotique']\n",
      "['Laparotomie']\n"
     ]
    },
    {
     "name": "stderr",
     "output_type": "stream",
     "text": [
      " 18%|█▊        | 19/103 [01:58<08:47,  6.28s/it]"
     ]
    },
    {
     "name": "stdout",
     "output_type": "stream",
     "text": [
      "[\"Glaucome aigu par fermeture de l'angle\"]\n",
      "['Uvéite antérieure']\n",
      "['Artère coronaire']\n",
      "['Glaucome néovasculaire']\n",
      "['Maladie de Behçet']\n"
     ]
    },
    {
     "name": "stderr",
     "output_type": "stream",
     "text": [
      " 19%|█▉        | 20/103 [02:04<08:46,  6.34s/it]"
     ]
    },
    {
     "name": "stdout",
     "output_type": "stream",
     "text": [
      "['Convergent']\n",
      "Disambiguation error for Convergent: ['convergent', 'astronautique', 'mathématiques', 'suite convergente', 'série convergente', 'intégrale convergente', 'Convergence', 'Convergent']\n",
      "['Acuité visuelle']\n",
      "['Myopie']\n",
      "['Divergente']\n",
      "Disambiguation error for Divergente: ['divergence', 'divergence', 'divergence', 'statistiques', 'suite', 'intégrale impropre', 'divergence nucléaire', 'géologie', 'divergence génétique', 'Divergences 001', 'Divergence', 'Divergence', 'Divergence', 'La Série Divergence\\xa0: Insurgés', 'Divergence FM', 'Divergence', 'Divergences', 'Divergence', 'Convergence', 'Convergent']\n",
      "['Décollement de rétine']\n"
     ]
    },
    {
     "name": "stderr",
     "output_type": "stream",
     "text": [
      " 20%|██        | 21/103 [02:11<08:42,  6.37s/it]"
     ]
    },
    {
     "name": "stdout",
     "output_type": "stream",
     "text": [
      "['Soins ambulatoires']\n",
      "Page not found: Soins ambulatoires\n",
      "['Électrothérapie']\n",
      "['Béquille (médecine)']\n",
      "['Kinésithérapie']\n",
      "['Maison départementale des personnes handicapées']\n"
     ]
    },
    {
     "name": "stderr",
     "output_type": "stream",
     "text": [
      " 21%|██▏       | 22/103 [02:17<08:23,  6.21s/it]"
     ]
    },
    {
     "name": "stdout",
     "output_type": "stream",
     "text": [
      "['Sténose trachéale']\n",
      "['Aphte']\n",
      "[\"Fauteuils d'orchestre\"]\n",
      "[\"Complications de l'anesthésie\"]\n",
      "['Maladie de longue durée']\n"
     ]
    },
    {
     "name": "stderr",
     "output_type": "stream",
     "text": [
      " 22%|██▏       | 23/103 [02:23<08:25,  6.32s/it]"
     ]
    },
    {
     "name": "stdout",
     "output_type": "stream",
     "text": [
      "['Ordonnance (médecine)']\n",
      "['Podo orthèsiste']\n",
      "['Liliane Bettencourt']\n",
      "['Les Spécialistes']\n",
      "['Masseur-kinésithérapeute']\n"
     ]
    },
    {
     "name": "stderr",
     "output_type": "stream",
     "text": [
      " 23%|██▎       | 24/103 [02:30<08:36,  6.54s/it]"
     ]
    },
    {
     "name": "stdout",
     "output_type": "stream",
     "text": [
      "['Idiopathique']\n",
      "['Grossesse']\n",
      "['Électromyographie']\n",
      "['Nerf médian']\n",
      "['Muscle brachio-radial']\n"
     ]
    },
    {
     "name": "stderr",
     "output_type": "stream",
     "text": [
      " 24%|██▍       | 25/103 [02:37<08:35,  6.60s/it]"
     ]
    },
    {
     "name": "stdout",
     "output_type": "stream",
     "text": [
      "['Ponction']\n",
      "Disambiguation error for Ponction: ['position', 'position', 'position', 'position', 'position', 'position', 'position', 'position', 'position', 'PositioN', 'position', 'Positions', 'Positions', 'Position classique', 'Position sexuelle', 'Vecteur position']\n",
      "['Genu varum']\n",
      "['Acide hyaluronique']\n",
      "['Hallux rigidus']\n",
      "['Corticoïde']\n"
     ]
    },
    {
     "name": "stderr",
     "output_type": "stream",
     "text": [
      " 25%|██▌       | 26/103 [02:43<08:18,  6.48s/it]"
     ]
    },
    {
     "name": "stdout",
     "output_type": "stream",
     "text": [
      "['Éclat']\n",
      "['Prothèse totale de hanche']\n",
      "[\"Implantation percutanée d'une prothèse valvulaire aortique\"]\n",
      "['Stent']\n",
      "['Néphrologie']\n"
     ]
    },
    {
     "name": "stderr",
     "output_type": "stream",
     "text": [
      " 26%|██▌       | 27/103 [02:50<08:10,  6.46s/it]"
     ]
    },
    {
     "name": "stdout",
     "output_type": "stream",
     "text": [
      "['Élévation']\n",
      "Disambiguation error for Élévation: ['élévation', 'Élévation', 'liturgie catholique', 'balistique', 'élévation', 'élévation', 'élévation', 'informatique', 'géodésie', 'géographie', 'Élévation', 'Élévation', 'Élévation', 'Elevation', 'Élévation', 'Élévation', 'Cédric Klapisch']\n",
      "['Myosis']\n",
      "[\"Adduction d'eau\"]\n",
      "['Exophtalmie']\n",
      "['Ptosis']\n"
     ]
    },
    {
     "name": "stderr",
     "output_type": "stream",
     "text": [
      " 27%|██▋       | 28/103 [02:56<07:57,  6.36s/it]"
     ]
    },
    {
     "name": "stdout",
     "output_type": "stream",
     "text": [
      "['Migraine']\n",
      "['Céphalée chronique quotidienne']\n",
      "['Syndrome méningé']\n",
      "['Hypertension intracrânienne']\n",
      "['Hémorragie méningée']\n"
     ]
    },
    {
     "name": "stderr",
     "output_type": "stream",
     "text": [
      " 28%|██▊       | 29/103 [03:02<07:51,  6.37s/it]"
     ]
    },
    {
     "name": "stdout",
     "output_type": "stream",
     "text": [
      "['Émotion']\n",
      "['Calcul mental']\n",
      "['Écriture']\n",
      "['Mouvement']\n",
      "Disambiguation error for Mouvement: ['mouvement', 'Mouvement', 'Mouvement', 'Mouvement', 'Mouvement', 'Guerre de mouvement', 'Mouvement', \"Mouvement (partie d'œuvre musicale)\", 'mouvement mélodique', 'mouvement mélodique obligé', 'mouvement harmonique', 'Mouvement (- vor der Erstarrung)', 'Mouvement culturel', 'Mouvement littéraire', 'Mouvement artistique', 'Mouvement gothique', 'Mouvement de mode', 'Mouvement religieux', 'Mouvement social', 'Mouvement de jeunesse', 'Le Mouvement', 'Mouvement politique', 'Le Mouvement', 'Mouvement démocrate', 'Mouvement populaire', 'Mouvement', 'Mouvements', 'Mouvements', 'Parti du Mouvement', 'Mouvement', 'Movement', 'The Movement']\n",
      "['Sommeil']\n"
     ]
    },
    {
     "name": "stderr",
     "output_type": "stream",
     "text": [
      " 29%|██▉       | 30/103 [03:09<07:50,  6.45s/it]"
     ]
    },
    {
     "name": "stdout",
     "output_type": "stream",
     "text": [
      "[]\n",
      "['Incontinence urinaire']\n",
      "['Reflux vésico-urétéral']\n",
      "['Pression']\n",
      "['NaN']\n"
     ]
    },
    {
     "name": "stderr",
     "output_type": "stream",
     "text": [
      " 30%|███       | 31/103 [03:14<07:24,  6.18s/it]"
     ]
    },
    {
     "name": "stdout",
     "output_type": "stream",
     "text": [
      "Disambiguation error for NaN: ['Nana', 'nana', 'taxonomie', 'Mentha spicata', 'abréviation', 'Nana', 'cyclones tropicaux', 'mythologie grecque', 'mythologie mésopotamienne', 'Nana', 'Nana', 'Nana', 'Nanas', 'Nana', 'Nana', 'Nana', 'Nana', 'Nana: Le désir', 'Nana', 'La Nana', 'Nana', 'Nana', 'Nana', 'Michel Tremblay', 'Nana', 'bande dessinée', 'Nana Mouskouri', 'Nanako Takushi', 'Nana', 'Nana', 'Nana', 'Nana', 'Nana', 'Iñupiat', 'Nana', 'Dominique Marie André Nana', 'Nana', 'Nana', 'Nana', 'Serge Yanic Nana']\n",
      "['Lentille cultivée']\n",
      "['Haricot vert']\n",
      "['NaN']\n",
      "Disambiguation error for NaN: ['Nana', 'nana', 'taxonomie', 'Mentha spicata', 'abréviation', 'Nana', 'cyclones tropicaux', 'mythologie grecque', 'mythologie mésopotamienne', 'Nana', 'Nana', 'Nana', 'Nanas', 'Nana', 'Nana', 'Nana', 'Nana', 'Nana: Le désir', 'Nana', 'La Nana', 'Nana', 'Nana', 'Nana', 'Michel Tremblay', 'Nana', 'bande dessinée', 'Nana Mouskouri', 'Nanako Takushi', 'Nana', 'Nana', 'Nana', 'Nana', 'Nana', 'Iñupiat', 'Nana', 'Dominique Marie André Nana', 'Nana', 'Nana', 'Nana', 'Serge Yanic Nana']\n",
      "['NaN']\n",
      "Disambiguation error for NaN: ['Nana', 'nana', 'taxonomie', 'Mentha spicata', 'abréviation', 'Nana', 'cyclones tropicaux', 'mythologie grecque', 'mythologie mésopotamienne', 'Nana', 'Nana', 'Nana', 'Nanas', 'Nana', 'Nana', 'Nana', 'Nana', 'Nana: Le désir', 'Nana', 'La Nana', 'Nana', 'Nana', 'Nana', 'Michel Tremblay', 'Nana', 'bande dessinée', 'Nana Mouskouri', 'Nanako Takushi', 'Nana', 'Nana', 'Nana', 'Nana', 'Nana', 'Iñupiat', 'Nana', 'Dominique Marie André Nana', 'Nana', 'Nana', 'Nana', 'Serge Yanic Nana']\n",
      "['Fruit']\n"
     ]
    },
    {
     "name": "stderr",
     "output_type": "stream",
     "text": [
      " 31%|███       | 32/103 [03:21<07:36,  6.44s/it]"
     ]
    },
    {
     "name": "stdout",
     "output_type": "stream",
     "text": [
      "Disambiguation error for Fruit: ['fruit', 'Fruit', 'Fruit', 'Fruit', 'cinq fruits et légumes par jour', 'Fruit', 'Fruit', '(15604) Fruits', 'Le Fruit', 'Fruit', 'Fruit Chan', 'Fruit de mer', 'Fruit défendu', 'FRUiTS']\n",
      "['Natrémie']\n",
      "['Kaliémie']\n",
      "['Glycémie']\n",
      "['Hormone corticotrope']\n",
      "['Cortisol']\n"
     ]
    },
    {
     "name": "stderr",
     "output_type": "stream",
     "text": [
      " 32%|███▏      | 33/103 [03:28<07:30,  6.44s/it]"
     ]
    },
    {
     "name": "stdout",
     "output_type": "stream",
     "text": [
      "['Marche sur les eaux']\n",
      "['Grippe']\n",
      "['Bandelette urinaire']\n",
      "['Examen cytobactériologique des urines']\n",
      "['Ponction lombaire']\n"
     ]
    },
    {
     "name": "stderr",
     "output_type": "stream",
     "text": [
      " 33%|███▎      | 34/103 [03:34<07:23,  6.43s/it]"
     ]
    },
    {
     "name": "stdout",
     "output_type": "stream",
     "text": [
      "['Contracture']\n",
      "['Pronation douloureuse']\n",
      "['Épistaxis']\n",
      "['Angine']\n",
      "['Kératose']\n"
     ]
    },
    {
     "name": "stderr",
     "output_type": "stream",
     "text": [
      " 34%|███▍      | 35/103 [03:42<07:44,  6.83s/it]"
     ]
    },
    {
     "name": "stdout",
     "output_type": "stream",
     "text": [
      "['Police']\n",
      "Disambiguation error for Police: ['police', 'Police', 'Police', 'Police', 'gmina de Police', 'powiat de Police', 'Police', 'Police', 'Police', 'Police', 'Police', 'Police nad Metují', 'Horní Police', 'Police', 'Police', 'Police', 'Police', 'The Police', 'Police', 'Police', 'Police', 'Police', 'Benjamin Police', 'Marc Police', 'Pierre La Police', 'AD Police', 'Allô Police', 'Honneur de la police', 'Police Football Club', 'Spécial police', 'Tous les articles commençant par «\\xa0Police\\xa0»', '↑']\n",
      "['Certificat']\n",
      "Disambiguation error for Certificat: ['Certificat médical', \"Certificat covid numérique de l'Union européenne\", \"certificat d'authenticité\", 'France', 'diplômes', 'France', 'Québec', 'finance', 'informatique', 'informatique théorique', \"certificat d'immatriculation\", 'Union européenne', 'Carte verte', 'Union européenne', 'Certificat', 'certificat', 'Tous les articles commençant par «\\xa0Certificat\\xa0»']\n",
      "['Procureur']\n",
      "['Autopsie']\n",
      "['Médecine légale']\n"
     ]
    },
    {
     "name": "stderr",
     "output_type": "stream",
     "text": [
      " 35%|███▍      | 36/103 [03:49<07:33,  6.78s/it]"
     ]
    },
    {
     "name": "stdout",
     "output_type": "stream",
     "text": [
      "['Médicament']\n",
      "['Boisson']\n",
      "['Enveloppe T']\n",
      "['Ibuprofène']\n",
      "['Collectivité territoriale en France']\n"
     ]
    },
    {
     "name": "stderr",
     "output_type": "stream",
     "text": [
      " 36%|███▌      | 37/103 [03:55<07:23,  6.72s/it]"
     ]
    },
    {
     "name": "stdout",
     "output_type": "stream",
     "text": [
      "['Tractus thyréoglosse']\n",
      "[\"CIM-10 Chapitre 14 : Maladies de l'appareil génito-urinaire\"]\n",
      "['Amygdale (cerveau)']\n",
      "['Tumeur médiastinale']\n",
      "['Nerf accessoire']\n"
     ]
    },
    {
     "name": "stderr",
     "output_type": "stream",
     "text": [
      " 37%|███▋      | 38/103 [04:02<07:08,  6.59s/it]"
     ]
    },
    {
     "name": "stdout",
     "output_type": "stream",
     "text": [
      "['Espace latéro-pharyngien']\n",
      "['Trismus (médecine)']\n",
      "['Commissure antérieure']\n",
      "['Blépharoplastie']\n",
      "['Drainage']\n"
     ]
    },
    {
     "name": "stderr",
     "output_type": "stream",
     "text": [
      " 38%|███▊      | 39/103 [04:08<06:55,  6.49s/it]"
     ]
    },
    {
     "name": "stdout",
     "output_type": "stream",
     "text": [
      "['Temps (physique)']\n",
      "['Ischémie']\n",
      "['Kinésithérapie']\n",
      "['Acouphène']\n",
      "['Notation positionnelle']\n"
     ]
    },
    {
     "name": "stderr",
     "output_type": "stream",
     "text": [
      " 39%|███▉      | 40/103 [04:14<06:52,  6.54s/it]"
     ]
    },
    {
     "name": "stdout",
     "output_type": "stream",
     "text": [
      "['Hépatite virale']\n",
      "['Hépatite alcoolique aiguë']\n",
      "['Hépatite']\n",
      "Page not found: Hépatite\n",
      "['Hépatite']\n",
      "Page not found: Hépatite\n",
      "['Effets à long terme du cannabis']\n"
     ]
    },
    {
     "name": "stderr",
     "output_type": "stream",
     "text": [
      " 40%|███▉      | 41/103 [04:20<06:31,  6.31s/it]"
     ]
    },
    {
     "name": "stdout",
     "output_type": "stream",
     "text": [
      "['Régime BRATT']\n",
      "['Furosémide']\n",
      "[\"Syndrome de sécrétion inappropriée d'hormone antidiurétique\"]\n",
      "['Amlodipine']\n",
      "['Lithium']\n"
     ]
    },
    {
     "name": "stderr",
     "output_type": "stream",
     "text": [
      " 41%|████      | 42/103 [04:27<06:24,  6.31s/it]"
     ]
    },
    {
     "name": "stdout",
     "output_type": "stream",
     "text": [
      "['AGE']\n",
      "Disambiguation error for AGE: ['age', 'AGE', 'Acide gras essentiel', 'Administration & Gestion des Entreprises', 'Advanced glycation end-product', 'Aerospace Ground Equipment', 'Assemblée générale extraordinaire', 'Association gabonaise des échecs', 'Association générale des étudiants', \"Assemblée générale des étudiants de l'UNamur\", 'Wangerooge', 'age', 'GeroScience', 'jeu vidéo', 'Age of Empires', 'Age quod agis', 'Agé', 'danois', 'Agenore Incrocci']\n",
      "['Hémoptysie']\n",
      "['Pression artérielle']\n",
      "['Encéphalopathie hépatique']\n",
      "['Ascite']\n"
     ]
    },
    {
     "name": "stderr",
     "output_type": "stream",
     "text": [
      " 42%|████▏     | 43/103 [04:33<06:13,  6.22s/it]"
     ]
    },
    {
     "name": "stdout",
     "output_type": "stream",
     "text": [
      "Page not found: Ascite\n",
      "['Ibuprofène']\n",
      "['Candésartan']\n",
      "['Amiloride']\n",
      "['Amlodipine']\n",
      "['Prednisone']\n"
     ]
    },
    {
     "name": "stderr",
     "output_type": "stream",
     "text": [
      " 43%|████▎     | 44/103 [04:39<06:08,  6.25s/it]"
     ]
    },
    {
     "name": "stdout",
     "output_type": "stream",
     "text": [
      "['Sensibilité']\n",
      "Disambiguation error for Sensibilité: ['sensibilité', 'intelligence sociale', 'Sensibilité', 'personnalité sensitive', 'psychométrie', 'beauté', 'Sensibilité', 'Sensibilité', 'somesthésie', 'Sensibilité', 'Sensibilité', 'Sensibilité', 'Sensibilité', 'Sensibilité', 'Sensible']\n",
      "['Spécificité']\n",
      "Disambiguation error for Spécificité: ['spécificité', 'spécifique', 'philosophie', 'aristotélisme', 'linguistique', 'comportement sexuel', 'espèces', 'diversité spécifique', 'richesse spécifique', 'comportement sexuel', 'grandeur spécifique', 'spécificité', 'spécificité', 'sémiologie médicale', 'toponymie', 'Spécialité']\n",
      "['Vraisemblance']\n",
      "['Protéine intrinsèque']\n",
      "['Fagan']\n"
     ]
    },
    {
     "name": "stderr",
     "output_type": "stream",
     "text": [
      " 44%|████▎     | 45/103 [04:45<06:02,  6.25s/it]"
     ]
    },
    {
     "name": "stdout",
     "output_type": "stream",
     "text": [
      "Disambiguation error for Fagan: ['Barthélemy-Christophe Fagan', 'Craig Fagan', 'Billie Holiday', 'Frank Coureval Fagan', 'Joe Fagan', 'John Fagan', 'Mary Fagan-Churchill', 'Myron Coureval Fagan', 'Robert Fagan', 'Willie Fagan']\n",
      "['Transferrine']\n",
      "['Surpoids']\n",
      "['Hypertriglycéridémie']\n",
      "['Maladie de Basedow']\n",
      "['Cancer colorectal']\n"
     ]
    },
    {
     "name": "stderr",
     "output_type": "stream",
     "text": [
      " 45%|████▍     | 46/103 [04:51<05:54,  6.21s/it]"
     ]
    },
    {
     "name": "stdout",
     "output_type": "stream",
     "text": [
      "['Un air de famille (film, 1996)']\n",
      "['Cervin']\n",
      "Disambiguation error for Cervin: ['Kevin', 'latin', 'celte', 'gaélique', 'anglais', 'suédois', 'français', '[3]', '[3]', 'bosniaque', 'Aristide Dohou Kevin', 'Kevin de Glendalough', 'liste des articles dont le titre commence par ce prénom', 'liste des articles dont le titre commence par ce prénom', 'Liste des personnes de prénom «\\u202fKevin\\u202f»', 'Litteul Kévin', \"Il faut qu'on parle de Kevin\", 'La revanche de Kevin', 'Macaulay Culkin', 'Kevin Tran', 'quarterback', 'Moi, moche et méchant', 'Iegor Gran', 'Kevin', 'Anne Robillard', 'Les Brumes d’Avalon', 'Honkai Impact 3rd', 'Élie Semoun', 'François Pirette', 'Jean Dujardin', 'Kevin', 'a', '↑', 'a', '↑', 'a', '↑', 'a', '↑', '↑', '↑', '↑']\n",
      "['Persillé']\n",
      "['Cellule végétale']\n",
      "['Liste de racines grecques (lettre P)']\n"
     ]
    },
    {
     "name": "stderr",
     "output_type": "stream",
     "text": [
      " 46%|████▌     | 47/103 [04:58<06:03,  6.50s/it]"
     ]
    },
    {
     "name": "stdout",
     "output_type": "stream",
     "text": [
      "['Mineur']\n",
      "Disambiguation error for Mineur: ['majeur', 'majeur', 'majeur', 'majeur', 'Majeur', 'Majeur', 'Jacques le Majeur', 'Lac Majeur', 'Mineur', 'Major', 'Majorité']\n",
      "['Âme']\n",
      "['Enceinte (audio)']\n",
      "['Mammographie']\n",
      "Page not found: Mammographie\n",
      "['Essai']\n"
     ]
    },
    {
     "name": "stderr",
     "output_type": "stream",
     "text": [
      " 47%|████▋     | 48/103 [05:04<05:50,  6.38s/it]"
     ]
    },
    {
     "name": "stdout",
     "output_type": "stream",
     "text": [
      "[\"Sténose de l'artère rénale\"]\n",
      "['Syndrome de Gitelman']\n",
      "['Syndrome de Conn']\n",
      "['Réglisse']\n",
      "['Phéochromocytome']\n"
     ]
    },
    {
     "name": "stderr",
     "output_type": "stream",
     "text": [
      " 48%|████▊     | 49/103 [05:11<05:42,  6.35s/it]"
     ]
    },
    {
     "name": "stdout",
     "output_type": "stream",
     "text": [
      "['Ace']\n",
      "Disambiguation error for Ace: ['ce', 'Sri Lanka', 'Ceará', 'Ceuta', 'Nationwide Airlines', 'tchétchène', 'BTS CE', \"Caisse d'épargne\", 'Carcinome épidermoïde', 'anglais', 'Cocarde étudiante', \"Code de l'environnement\", \"Comité d'entreprise\", 'Commission européenne', 'anglaise', 'Confédération étudiante', 'CE1', 'Communauté européenne', \"Conseil d'État\", \"Conseil de l'Europe\", 'Contre-espionnage', 'Corps étranger', 'Customer Edge router', 'Marquage CE', 'Windows CE', 'Cérium', 'accent circonflexe', 'hexadécimal']\n",
      "['Groupe PSA']\n",
      "Page not found: Groupe PSA\n",
      "['Maladie à corps de Lewy']\n",
      "Page not found: Maladie à corps de Lewy\n",
      "['HCG']\n",
      "Disambiguation error for HCG: ['Human chorionic gonadotropin', 'Hickson Compact Group']\n",
      "['Honda CM125']\n"
     ]
    },
    {
     "name": "stderr",
     "output_type": "stream",
     "text": [
      " 49%|████▊     | 50/103 [05:17<05:27,  6.18s/it]"
     ]
    },
    {
     "name": "stdout",
     "output_type": "stream",
     "text": [
      "['Directive anticipée']\n",
      "['Consultant (médecine)']\n",
      "['Soins palliatifs']\n",
      "['Mobilier national']\n",
      "['Dossier médical']\n"
     ]
    },
    {
     "name": "stderr",
     "output_type": "stream",
     "text": [
      " 50%|████▉     | 51/103 [05:24<05:34,  6.43s/it]"
     ]
    },
    {
     "name": "stdout",
     "output_type": "stream",
     "text": [
      "['(29558) 1998 DN4']\n",
      "[\"Échelle d'évaluation de la douleur\"]\n",
      "['Douleur']\n",
      "['Analogique']\n",
      "['Numérique']\n"
     ]
    },
    {
     "name": "stderr",
     "output_type": "stream",
     "text": [
      " 50%|█████     | 52/103 [05:31<05:38,  6.63s/it]"
     ]
    },
    {
     "name": "stdout",
     "output_type": "stream",
     "text": [
      "['Antidépresseur tricyclique']\n",
      "['Prégabaline']\n",
      "['Morphine']\n",
      "['Stimulation vibratoire transcutanée']\n",
      "['Médullaire']\n"
     ]
    },
    {
     "name": "stderr",
     "output_type": "stream",
     "text": [
      " 51%|█████▏    | 53/103 [05:37<05:25,  6.51s/it]"
     ]
    },
    {
     "name": "stdout",
     "output_type": "stream",
     "text": [
      "['Échelle de Bristol']\n",
      "['Fraction inspirée en oxygène']\n",
      "['Opioïde']\n",
      "['Gondole']\n",
      "['Sédation']\n"
     ]
    },
    {
     "name": "stderr",
     "output_type": "stream",
     "text": [
      " 52%|█████▏    | 54/103 [05:43<05:18,  6.51s/it]"
     ]
    },
    {
     "name": "stdout",
     "output_type": "stream",
     "text": [
      "['Adolescence']\n",
      "[\"Syndrome d'apnées du sommeil\"]\n",
      "['Trouble des conduites alimentaires']\n",
      "['Ballon gastrique']\n",
      "['Risque']\n"
     ]
    },
    {
     "name": "stderr",
     "output_type": "stream",
     "text": [
      " 53%|█████▎    | 55/103 [05:50<05:20,  6.67s/it]"
     ]
    },
    {
     "name": "stdout",
     "output_type": "stream",
     "text": [
      "['Néphrite interstitielle']\n",
      "['Lupus érythémateux disséminé']\n",
      "['Vitiligo']\n",
      "['Maladie de Berger']\n",
      "['Néphroangiosclérose']\n"
     ]
    },
    {
     "name": "stderr",
     "output_type": "stream",
     "text": [
      " 54%|█████▍    | 56/103 [05:57<05:06,  6.53s/it]"
     ]
    },
    {
     "name": "stdout",
     "output_type": "stream",
     "text": [
      "['Vacances']\n",
      "['Gabriel dos Santos Araújo']\n",
      "[\"Ordonnancement d'atelier\"]\n",
      "['Atopie']\n",
      "Page not found: Atopie\n",
      "['Paupière']\n"
     ]
    },
    {
     "name": "stderr",
     "output_type": "stream",
     "text": [
      " 55%|█████▌    | 57/103 [06:02<04:50,  6.32s/it]"
     ]
    },
    {
     "name": "stdout",
     "output_type": "stream",
     "text": [
      "['Dépression (psychiatrie)']\n",
      "['Date de naissance']\n",
      "['Dépression (psychiatrie)']\n",
      "['Harcèlement']\n",
      "[\"Chef de nom et d'armes\"]\n"
     ]
    },
    {
     "name": "stderr",
     "output_type": "stream",
     "text": [
      " 56%|█████▋    | 58/103 [06:10<05:05,  6.78s/it]"
     ]
    },
    {
     "name": "stdout",
     "output_type": "stream",
     "text": [
      "['Vaccin contre les infections invasives à pneumocoque']\n",
      "['Rifampicine']\n",
      "['Rifampicine']\n",
      "['Attaque de panique']\n",
      "['Ceftriaxone']\n"
     ]
    },
    {
     "name": "stderr",
     "output_type": "stream",
     "text": [
      " 57%|█████▋    | 59/103 [06:17<04:50,  6.60s/it]"
     ]
    },
    {
     "name": "stdout",
     "output_type": "stream",
     "text": [
      "['Karakou']\n",
      "['Masque FFP2']\n",
      "['Charlotte']\n",
      "Page not found: Charlotte\n",
      "['Couvre-chaussure']\n",
      "['Hygiène des mains']\n"
     ]
    },
    {
     "name": "stderr",
     "output_type": "stream",
     "text": [
      " 58%|█████▊    | 60/103 [06:23<04:44,  6.61s/it]"
     ]
    },
    {
     "name": "stdout",
     "output_type": "stream",
     "text": [
      "['Streptococcus pneumoniae']\n",
      "['Diphtérie']\n",
      "['Hépatite A']\n",
      "Page not found: Hépatite A\n",
      "['Coqueluche']\n",
      "['Hépatite B']\n"
     ]
    },
    {
     "name": "stderr",
     "output_type": "stream",
     "text": [
      " 59%|█████▉    | 61/103 [06:29<04:25,  6.32s/it]"
     ]
    },
    {
     "name": "stdout",
     "output_type": "stream",
     "text": [
      "Page not found: Hépatite B\n",
      "['Pancréatite aiguë']\n",
      "['Péritonite']\n",
      "['Appendicite']\n",
      "Disambiguation error for Appendicite: ['appendice', 'anatomie', 'morphologie végétale', 'zoologie', 'Appendice biramé', 'Appendice uniramé', 'Les Appendices', 'Les Appendices']\n",
      "['Choc septique']\n",
      "['Appendicite']\n"
     ]
    },
    {
     "name": "stderr",
     "output_type": "stream",
     "text": [
      " 60%|██████    | 62/103 [06:35<04:14,  6.20s/it]"
     ]
    },
    {
     "name": "stdout",
     "output_type": "stream",
     "text": [
      "Disambiguation error for Appendicite: ['appendice', 'anatomie', 'morphologie végétale', 'zoologie', 'Appendice biramé', 'Appendice uniramé', 'Les Appendices', 'Les Appendices']\n",
      "['Néphrologie']\n",
      "['Mésentère commun']\n",
      "['Occlusion intestinale']\n",
      "['Pancréatite aiguë']\n",
      "['Cancer colorectal']\n"
     ]
    },
    {
     "name": "stderr",
     "output_type": "stream",
     "text": [
      " 61%|██████    | 63/103 [06:41<04:10,  6.27s/it]"
     ]
    },
    {
     "name": "stdout",
     "output_type": "stream",
     "text": [
      "['Arrêt Blanco']\n",
      "['Douleur']\n",
      "['Siège de Fort Alamo']\n",
      "['Syndrome cannabinoïde']\n",
      "['Gaz de schiste']\n"
     ]
    },
    {
     "name": "stderr",
     "output_type": "stream",
     "text": [
      " 62%|██████▏   | 64/103 [06:48<04:07,  6.34s/it]"
     ]
    },
    {
     "name": "stdout",
     "output_type": "stream",
     "text": [
      "['Syndrome inflammatoire']\n",
      "['Ferritine']\n",
      "Disambiguation error for Ferritine: ['ferrite', 'ferrite', 'ferrite', 'électronique', 'ciment']\n",
      "['Hémochromatose']\n",
      "['Syndrome myélodysplasique']\n",
      "['Lymphohistiocytose hémophagocytaire']\n"
     ]
    },
    {
     "name": "stderr",
     "output_type": "stream",
     "text": [
      " 63%|██████▎   | 65/103 [06:54<03:57,  6.25s/it]"
     ]
    },
    {
     "name": "stdout",
     "output_type": "stream",
     "text": [
      "['Roland Denise Oberson']\n",
      "['Évaluation ciblée avec échographie en cas de traumatisme']\n",
      "['Laparotomie']\n",
      "['Damage control']\n",
      "['Endométriose']\n"
     ]
    },
    {
     "name": "stderr",
     "output_type": "stream",
     "text": [
      " 64%|██████▍   | 66/103 [07:02<04:09,  6.75s/it]"
     ]
    },
    {
     "name": "stdout",
     "output_type": "stream",
     "text": [
      "['Myélogramme']\n",
      "['Syndrome de Gleich']\n",
      "['Test VIH']\n",
      "['Mononucléose infectieuse']\n",
      "['Cytomégalovirus']\n"
     ]
    },
    {
     "name": "stderr",
     "output_type": "stream",
     "text": [
      " 65%|██████▌   | 67/103 [07:08<03:55,  6.55s/it]"
     ]
    },
    {
     "name": "stdout",
     "output_type": "stream",
     "text": [
      "['Métastase osseuse']\n",
      "['Artère iliaque externe']\n",
      "['Artère poplitée']\n",
      "['René Leriche']\n",
      "['Embolie pulmonaire']\n"
     ]
    },
    {
     "name": "stderr",
     "output_type": "stream",
     "text": [
      " 66%|██████▌   | 68/103 [07:14<03:48,  6.53s/it]"
     ]
    },
    {
     "name": "stdout",
     "output_type": "stream",
     "text": [
      "['Souffle cardiaque']\n",
      "['Machine à vapeur']\n",
      "['Auscultation cardiaque']\n",
      "[]\n",
      "['Artère carotide commune']\n"
     ]
    },
    {
     "name": "stderr",
     "output_type": "stream",
     "text": [
      " 67%|██████▋   | 69/103 [07:20<03:30,  6.18s/it]"
     ]
    },
    {
     "name": "stdout",
     "output_type": "stream",
     "text": [
      "['Liste des communes de France les plus peuplées']\n",
      "['Signification']\n",
      "Disambiguation error for Signification: ['signification', 'herméneutique', 'littéraire', 'psychanalytique', 'langage des fleurs', 'signification (philosophie)', 'sens (métaphysique)', 'Signification (droit)']\n",
      "['Fluctuation quantique']\n",
      "['Ignorance']\n",
      "['Réduction']\n"
     ]
    },
    {
     "name": "stderr",
     "output_type": "stream",
     "text": [
      " 68%|██████▊   | 70/103 [07:26<03:29,  6.36s/it]"
     ]
    },
    {
     "name": "stdout",
     "output_type": "stream",
     "text": [
      "Disambiguation error for Réduction: ['réduction', 'réduction phénoménologique', 'homothétie', 'homothétie', \"réduction d'endomorphisme\", \"réduction d'endomorphisme\", 'réduction de Gauss', 'réduction', 'réduction dimensionnelle', \"réduction du paquet d'onde\", 'réduction', 'fracture', 'Réductions', 'réduction', 'remise', 'Brancusi', 'réduction', 'haïku', 'réduction', 'thanatologie', 'sport hippique', 'Réduction directe', \"Réaction d'oxydoréduction\", 'Oxydoréduction en chimie organique']\n",
      "['Incidence (épidémiologie)']\n",
      "['Odds ratio']\n",
      "['Taux de mortalité']\n",
      "['Prévalence']\n",
      "['Périostite']\n"
     ]
    },
    {
     "name": "stderr",
     "output_type": "stream",
     "text": [
      " 69%|██████▉   | 71/103 [07:33<03:26,  6.45s/it]"
     ]
    },
    {
     "name": "stdout",
     "output_type": "stream",
     "text": [
      "['Abcès hépatique amibien']\n",
      "['Pyélonéphrite aiguë']\n",
      "['Fièvre typhoïde']\n",
      "['Pneumologie']\n",
      "['Tuberculose']\n"
     ]
    },
    {
     "name": "stderr",
     "output_type": "stream",
     "text": [
      " 70%|██████▉   | 72/103 [07:40<03:21,  6.50s/it]"
     ]
    },
    {
     "name": "stdout",
     "output_type": "stream",
     "text": [
      "['Amœbose']\n",
      "[]\n",
      "['Hydatidose']\n",
      "['Anguillulose']\n",
      "['Bilharziose']\n"
     ]
    },
    {
     "name": "stderr",
     "output_type": "stream",
     "text": [
      " 71%|███████   | 73/103 [07:45<03:02,  6.10s/it]"
     ]
    },
    {
     "name": "stdout",
     "output_type": "stream",
     "text": [
      "['Pénis humain']\n",
      "Page not found: Pénis humain\n",
      "['Incapacité totale de travail']\n",
      "['Preuve (droit)']\n",
      "['Autorité parentale']\n",
      "['Idriss Aberkane']\n"
     ]
    },
    {
     "name": "stderr",
     "output_type": "stream",
     "text": [
      " 72%|███████▏  | 74/103 [07:51<02:58,  6.15s/it]"
     ]
    },
    {
     "name": "stdout",
     "output_type": "stream",
     "text": [
      "['Bêta']\n",
      "Disambiguation error for Bêta: ['bot', 'bot', 'bot', 'Ben Bot', 'Jean-Marc Bot', 'Jeanne Bot', 'Marc Le Bot', 'Yves Bot', 'Steef de Bot', 'Sam Bot', 'Bot', 'Botswana', 'Build-operate-transfer']\n",
      "['Absence']\n",
      "Disambiguation error for Absence: ['absence', 'absence', 'absence', 'absence', 'Absence', 'The Absence', 'The Absence', 'The Absence']\n",
      "['Puissance']\n",
      "Disambiguation error for Puissance: ['puissance', 'Puissance', 'physiologie', \"puissance d'un nombre\", 'fonction puissance', \"puissance d'un point par rapport à un cercle\", 'puissances cartésiennes', 'puissance du continu', 'électricité', 'optique géométrique', 'puissance optique', 'puissance intrinsèque', 'géologie', 'puissance statistique', 'pouvoir', 'puissance publique', 'puissance', 'philosophie', 'Puissance', 'catholicisme', 'équitation', '↑']\n",
      "['Angioplastie coronaire']\n",
      "['Alpha']\n"
     ]
    },
    {
     "name": "stderr",
     "output_type": "stream",
     "text": [
      " 73%|███████▎  | 75/103 [07:58<02:56,  6.29s/it]"
     ]
    },
    {
     "name": "stdout",
     "output_type": "stream",
     "text": [
      "['Mort subite du nourrisson']\n",
      "['Syndrome du bébé secoué']\n",
      "['Sarah Silverman']\n",
      "['Thrombose veineuse cérébrale']\n",
      "['Traumatisme crânien']\n"
     ]
    },
    {
     "name": "stderr",
     "output_type": "stream",
     "text": [
      " 74%|███████▍  | 76/103 [08:04<02:52,  6.39s/it]"
     ]
    },
    {
     "name": "stdout",
     "output_type": "stream",
     "text": [
      "['Mairie']\n",
      "['Institut national de la santé et de la recherche médicale']\n",
      "['Funérarium']\n",
      "['Procureur']\n",
      "['Famille']\n"
     ]
    },
    {
     "name": "stderr",
     "output_type": "stream",
     "text": [
      " 75%|███████▍  | 77/103 [08:11<02:51,  6.61s/it]"
     ]
    },
    {
     "name": "stdout",
     "output_type": "stream",
     "text": [
      "Disambiguation error for Famille: ['family', 'Family', 'Family', 'Family ~Tabidachi no Asa~', 'Björk', 'Family', 'Family', 'Family', 'Les Liens du sang (Buffy)', 'Family', 'Family Feud', 'Family', 'Famille', 'Toutes les pages avec «\\xa0Family\\xa0» dans le titre']\n",
      "['Canal ionique']\n",
      "['Cardiopathie congénitale']\n",
      "['Caryotype']\n",
      "['Parenté']\n",
      "['Médecine prédictive']\n"
     ]
    },
    {
     "name": "stderr",
     "output_type": "stream",
     "text": [
      " 76%|███████▌  | 78/103 [08:18<02:43,  6.54s/it]"
     ]
    },
    {
     "name": "stdout",
     "output_type": "stream",
     "text": [
      "['Incapacité totale de travail']\n",
      "['Incapacité totale de travail']\n",
      "['Incapacité totale de travail']\n",
      "['Incapacité totale de travail']\n",
      "['Incapacité totale de travail']\n"
     ]
    },
    {
     "name": "stderr",
     "output_type": "stream",
     "text": [
      " 77%|███████▋  | 79/103 [08:25<02:40,  6.69s/it]"
     ]
    },
    {
     "name": "stdout",
     "output_type": "stream",
     "text": [
      "['Mucoviscidose']\n",
      "['Virus']\n",
      "['Gène et protéine CFTR']\n",
      "['Hétérozygote']\n",
      "['Mucoviscidose']\n"
     ]
    },
    {
     "name": "stderr",
     "output_type": "stream",
     "text": [
      " 78%|███████▊  | 80/103 [08:31<02:33,  6.66s/it]"
     ]
    },
    {
     "name": "stdout",
     "output_type": "stream",
     "text": [
      "['CIM-10 Chapitre 19 : Lésions traumatiques, empoisonnements et certaines autres conséquences de causes externes']\n",
      "['Consentement']\n",
      "Disambiguation error for Consentement: ['consentement', 'consentement sexuel', 'âge de consentement', 'droit de la famille', 'droit des obligations', 'droit de la santé', \"consentement à l'impôt\", 'consentement', 'Consentement royal', 'libre consentement préalable et éclairé', 'sociocratie', 'consentement', 'rhétorique', 'sociologie des médias', 'Le Consentement', 'Le Consentement', '↑', '↑']\n",
      "['Crédibilité']\n",
      "['Pluridisciplinarité']\n",
      "['Empreinte génétique']\n"
     ]
    },
    {
     "name": "stderr",
     "output_type": "stream",
     "text": [
      " 79%|███████▊  | 81/103 [08:38<02:25,  6.63s/it]"
     ]
    },
    {
     "name": "stdout",
     "output_type": "stream",
     "text": [
      "['Bronchopneumopathie chronique obstructive']\n",
      "['Glucocorticoïde']\n",
      "['Bêta-2-mimétique']\n",
      "['Asthme']\n",
      "['Bêta-bloquant']\n"
     ]
    },
    {
     "name": "stderr",
     "output_type": "stream",
     "text": [
      " 80%|███████▉  | 82/103 [08:45<02:19,  6.62s/it]"
     ]
    },
    {
     "name": "stdout",
     "output_type": "stream",
     "text": [
      "['Rejet de greffe']\n",
      "['Mélasma']\n",
      "['Ergotisme']\n",
      "['Rhabdomyolyse']\n",
      "[\"Syndrome d'immunodéficience acquise\"]\n"
     ]
    },
    {
     "name": "stderr",
     "output_type": "stream",
     "text": [
      " 81%|████████  | 83/103 [08:51<02:13,  6.70s/it]"
     ]
    },
    {
     "name": "stdout",
     "output_type": "stream",
     "text": [
      "['Glucocorticoïde']\n",
      "['Système rénine-angiotensine-aldostérone']\n",
      "['Minéralocorticoïde']\n",
      "[\"Inhibiteur de l'enzyme de conversion\"]\n",
      "[\"Diurétique de l'anse\"]\n"
     ]
    },
    {
     "name": "stderr",
     "output_type": "stream",
     "text": [
      " 82%|████████▏ | 84/103 [08:58<02:05,  6.60s/it]"
     ]
    },
    {
     "name": "stdout",
     "output_type": "stream",
     "text": [
      "['Protamine']\n",
      "['Naloxone']\n",
      "['Prothrombine']\n",
      "['Acétylcystéine']\n",
      "['Flumazénil']\n"
     ]
    },
    {
     "name": "stderr",
     "output_type": "stream",
     "text": [
      " 83%|████████▎ | 85/103 [09:04<01:56,  6.48s/it]"
     ]
    },
    {
     "name": "stdout",
     "output_type": "stream",
     "text": [
      "['Lithium']\n",
      "['Acide valproïque']\n",
      "['Rispéridone']\n",
      "['Carbamazépine']\n",
      "['Quétiapine']\n"
     ]
    },
    {
     "name": "stderr",
     "output_type": "stream",
     "text": [
      " 83%|████████▎ | 86/103 [09:10<01:47,  6.35s/it]"
     ]
    },
    {
     "name": "stdout",
     "output_type": "stream",
     "text": [
      "['Eugénisme en France']\n",
      "['Pathologie']\n",
      "['Probabilité']\n",
      "['Réflexion']\n",
      "Disambiguation error for Réflexion: ['réflexion', 'Reflexion', 'Réflexion', 'Reflection', 'Reflection', 'Reflection', 'Reflection', 'Reflection', 'Réflexion (mathématiques)', 'Réflexion (informatique)', 'Réflexion (physique)', 'quotidien', 'Jeu de réflexion', '↑']\n",
      "['Terme']\n"
     ]
    },
    {
     "name": "stderr",
     "output_type": "stream",
     "text": [
      " 84%|████████▍ | 87/103 [09:16<01:42,  6.38s/it]"
     ]
    },
    {
     "name": "stdout",
     "output_type": "stream",
     "text": [
      "['Féminin']\n",
      "Disambiguation error for Féminin: ['féminin', 'féminité', 'genre grammatical', 'féminin sacré', 'Masculin', 'Épicène']\n",
      "['Post-partum']\n",
      "['Brutal']\n",
      "Disambiguation error for Brutal: ['brutal', 'Brutal']\n",
      "['Mélancolie']\n",
      "['Suicide']\n"
     ]
    },
    {
     "name": "stderr",
     "output_type": "stream",
     "text": [
      " 85%|████████▌ | 88/103 [09:23<01:36,  6.41s/it]"
     ]
    },
    {
     "name": "stdout",
     "output_type": "stream",
     "text": [
      "['Somatisation']\n",
      "['Culpabilité']\n",
      "Disambiguation error for Culpabilité: ['culpabilité', 'Culpabilité', 'Culpabilité', 'Sentiment de culpabilité (psychanalyse)', 'Culpabilité']\n",
      "['Morrissey']\n",
      "['Suicide']\n",
      "['Rapport sexuel']\n"
     ]
    },
    {
     "name": "stderr",
     "output_type": "stream",
     "text": [
      " 86%|████████▋ | 89/103 [09:29<01:27,  6.23s/it]"
     ]
    },
    {
     "name": "stdout",
     "output_type": "stream",
     "text": [
      "Page not found: Rapport sexuel\n",
      "['Constipation']\n",
      "['Mydriase']\n",
      "['Hallucination']\n",
      "['Vomissement']\n",
      "['Hypertension artérielle']\n"
     ]
    },
    {
     "name": "stderr",
     "output_type": "stream",
     "text": [
      " 87%|████████▋ | 90/103 [09:35<01:20,  6.22s/it]"
     ]
    },
    {
     "name": "stdout",
     "output_type": "stream",
     "text": [
      "['Argumentation']\n",
      "['Ruminantia']\n",
      "['Risque']\n",
      "['Licenciement pour motif personnel en France']\n",
      "['Risques psychosociaux']\n"
     ]
    },
    {
     "name": "stderr",
     "output_type": "stream",
     "text": [
      " 88%|████████▊ | 91/103 [09:42<01:19,  6.60s/it]"
     ]
    },
    {
     "name": "stdout",
     "output_type": "stream",
     "text": [
      "['Bêta-bloquant']\n",
      "['Antiarythmique']\n",
      "['Inhibiteur calcique']\n",
      "['Anticholinestérase']\n",
      "['Bêta-2-mimétique']\n"
     ]
    },
    {
     "name": "stderr",
     "output_type": "stream",
     "text": [
      " 89%|████████▉ | 92/103 [09:49<01:12,  6.56s/it]"
     ]
    },
    {
     "name": "stdout",
     "output_type": "stream",
     "text": [
      "['Méiose']\n",
      "['Formule chromosomique']\n",
      "['Biologie moléculaire']\n",
      "['Conjecture de Syracuse']\n",
      "['Prééclampsie']\n"
     ]
    },
    {
     "name": "stderr",
     "output_type": "stream",
     "text": [
      " 90%|█████████ | 93/103 [09:56<01:05,  6.57s/it]"
     ]
    },
    {
     "name": "stdout",
     "output_type": "stream",
     "text": [
      "['Microscope électronique']\n",
      "['Hyalinose segmentaire et focale']\n",
      "['Télésiège']\n",
      "['Guerre du Viêt Nam']\n",
      "['Néphropathie glomérulaire']\n"
     ]
    },
    {
     "name": "stderr",
     "output_type": "stream",
     "text": [
      " 91%|█████████▏| 94/103 [10:02<00:59,  6.60s/it]"
     ]
    },
    {
     "name": "stdout",
     "output_type": "stream",
     "text": [
      "['Biopsie']\n",
      "['Artérite à cellules géantes']\n",
      "['Vésicule séminale']\n",
      "['Score de Gleason']\n",
      "['Prolifération nucléaire']\n"
     ]
    },
    {
     "name": "stderr",
     "output_type": "stream",
     "text": [
      " 92%|█████████▏| 95/103 [10:09<00:52,  6.54s/it]"
     ]
    },
    {
     "name": "stdout",
     "output_type": "stream",
     "text": [
      "['Studio 4°C']\n",
      "['Sous-ordre']\n",
      "['Méthanal']\n",
      "['Fixateur']\n",
      "Disambiguation error for Fixateur: ['Fixateur (parfumerie)', 'Fixateur (photographie)', 'Fixateur (coiffure)', 'Fixateur externe']\n",
      "['Consentement']\n"
     ]
    },
    {
     "name": "stderr",
     "output_type": "stream",
     "text": [
      " 93%|█████████▎| 96/103 [10:16<00:47,  6.73s/it]"
     ]
    },
    {
     "name": "stdout",
     "output_type": "stream",
     "text": [
      "Disambiguation error for Consentement: ['consentement', 'consentement sexuel', 'âge de consentement', 'droit de la famille', 'droit des obligations', 'droit de la santé', \"consentement à l'impôt\", 'consentement', 'Consentement royal', 'libre consentement préalable et éclairé', 'sociocratie', 'consentement', 'rhétorique', 'sociologie des médias', 'Le Consentement', 'Le Consentement', '↑', '↑']\n",
      "['Granulocyte neutrophile']\n",
      "['Sténose aortique congénitale']\n",
      "['Michael Hitchcock']\n",
      "['Cirrhose']\n",
      "Page not found: Cirrhose\n",
      "['Cholestase']\n"
     ]
    },
    {
     "name": "stderr",
     "output_type": "stream",
     "text": [
      " 94%|█████████▍| 97/103 [10:22<00:38,  6.45s/it]"
     ]
    },
    {
     "name": "stdout",
     "output_type": "stream",
     "text": [
      "['Paraffine']\n",
      "['Congélateur']\n",
      "['Frottis']\n",
      "['Morphologie']\n",
      "Disambiguation error for Morphologie: ['morphologie', 'Morphologie', 'Morphologie mathématique', 'géomorphologie', 'cristal', 'Morphologie']\n",
      "['Autorisation']\n"
     ]
    },
    {
     "name": "stderr",
     "output_type": "stream",
     "text": [
      " 95%|█████████▌| 98/103 [10:28<00:31,  6.37s/it]"
     ]
    },
    {
     "name": "stdout",
     "output_type": "stream",
     "text": [
      "['Tardif']\n",
      "Disambiguation error for Tardif: ['tardif', 'Adolphe Tardif', 'Alain Tardif', 'Alexandre Tardif', 'Antoine Tardif', 'Claudette Tardif', 'Émilien Tardif', 'Étienne Tardif de Pommeroux de Bordesoulle', 'Georges Tardif', 'Guillaume Tardif', 'Guy Tardif', 'Jean-Pierre Tardif', 'Joseph Tardif', 'Laurent Duvernay-Tardif', 'Luc Tardif Junior', 'Luc Tardif', 'Marc Tardif', 'Marie-Louise Tardif', 'Monique B. Tardif', 'Patrice Tardif', 'Thérèse Tardif']\n",
      "['Secondaire']\n",
      "Disambiguation error for Secondaire: ['secondaire', 'Secondaire', 'secondaire', 'École secondaire (Suisse)', 'École secondaire (Vaud)', 'secteur secondaire', 'effets secondaires', 'transformateur électrique', 'secondaire', 'structure secondaire', 'miroir secondaire', 'couleur secondaire', 'polluant secondaire', 'Primaire', 'Binaire', 'Ternaire']\n",
      "['Comportement']\n",
      "['Dubois']\n",
      "Disambiguation error for Dubois: ['Dubois', 'Dubois', 'Rivière Dubois', 'Lac Dubois', 'Dubois', 'Dubois', 'Dubois', 'Du Bois', 'Fort Dubois', '(206241) Dubois', 'Mohamed Dubois']\n",
      "['Poussée']\n"
     ]
    },
    {
     "name": "stderr",
     "output_type": "stream",
     "text": [
      " 96%|█████████▌| 99/103 [10:34<00:25,  6.42s/it]"
     ]
    },
    {
     "name": "stdout",
     "output_type": "stream",
     "text": [
      "['Hypothèse du contact']\n",
      "['Stress oxydant']\n",
      "['Discipline scientifique']\n",
      "['Réserve héréditaire en France']\n",
      "['Individu']\n"
     ]
    },
    {
     "name": "stderr",
     "output_type": "stream",
     "text": [
      " 97%|█████████▋| 100/103 [10:41<00:19,  6.61s/it]"
     ]
    },
    {
     "name": "stdout",
     "output_type": "stream",
     "text": [
      "['Concept']\n",
      "Disambiguation error for Concept: ['concept', 'philosophie', 'concept', 'art conceptuel', 'Concept', 'Concept']\n",
      "['Devoir de réserve dans la fonction publique française']\n",
      "['Dépendance']\n",
      "Disambiguation error for Dépendance: ['dépendance', 'dépendance', 'dépendance', 'dépendance à Internet', 'dépendance au smartphone', 'dépendance logicielle', 'Parallélisme (informatique)#Dépendance des données', 'Addictologie', 'pharmacodépendance', 'dépendance aux psychotropes', 'psychologie', 'dépendance', 'module de dépendance', 'dépendance', 'salaire', 'dépendance au pétrole', 'Dépendance', 'Indépendance', 'Independence', 'Interdépendance']\n",
      "['Escarre']\n",
      "Page not found: Escarre\n",
      "['Infarctus du myocarde']\n"
     ]
    },
    {
     "name": "stderr",
     "output_type": "stream",
     "text": [
      " 98%|█████████▊| 101/103 [10:48<00:13,  6.53s/it]"
     ]
    },
    {
     "name": "stdout",
     "output_type": "stream",
     "text": [
      "['Prothrombine']\n",
      "['Vitamine K']\n",
      "Page not found: Vitamine K\n",
      "['Tomodensitométrie']\n",
      "['Héparine']\n",
      "['Antagoniste de la vitamine K']\n"
     ]
    },
    {
     "name": "stderr",
     "output_type": "stream",
     "text": [
      " 99%|█████████▉| 102/103 [10:53<00:06,  6.32s/it]"
     ]
    },
    {
     "name": "stdout",
     "output_type": "stream",
     "text": [
      "['Perte sèche']\n",
      "['Indice de masse corporelle']\n",
      "['The Normal Heart (téléfilm)']\n",
      "[\"Liste d'abréviations en médecine\"]\n",
      "['Albuminémie']\n"
     ]
    },
    {
     "name": "stderr",
     "output_type": "stream",
     "text": [
      "100%|██████████| 103/103 [11:00<00:00,  6.41s/it]\n"
     ]
    }
   ],
   "source": [
    "wikipedia_summaries = get_wikipedia_summaries(keywords)"
   ]
  },
  {
   "cell_type": "code",
   "execution_count": 47,
   "metadata": {},
   "outputs": [
    {
     "data": {
      "text/plain": [
       "['{\\'title\\': \\'Exanthème subit\\', \\'summary\\': \"L\\'exanthème subit, ou roséole infantile, est une maladie virale bénigne causée par un herpèsvirus de type 6 (HHV-6). Courante chez les enfants de 6 à 24 mois, elle devient rare après 4 ans. Elle est parfois appelée sixième maladie, parce que, à l\\'époque où l\\'on a voulu établir une liste des maladies provoquant un exanthème infantile, elle a été la sixième à être énumérée.\\\\nElle se manifeste d\\'abord par une fièvre pouvant atteindre facilement 39 à 40 °C pendant trois jours. L’enfant peut être sujet à des convulsions. La fièvre est suivie, quelques jours plus tard, d\\'une éruption cutanée : taches rouges persistant 1 à 3 jours\\\\u202f; l\\'enfant n\\'est alors plus contagieux. À l\\'apparition des boutons, la fièvre tombe aussi rapidement qu\\'elle est apparue.\\\\nLa maladie est difficile à diagnostiquer avant l’apparition de l\\'éruption. C\\'est l\\'absence d\\'autres symptômes, en dehors d\\'une légère pharyngite, et le caractère bien supporté de la fièvre, qui peut orienter le diagnostic.\\\\nL\\'exanthème subit est peu contagieux, et un traitement n\\'est pas nécessaire, en dehors de celui de la fièvre.\", \\'url\\': \\'https://fr.wikipedia.org/wiki/Exanth%C3%A8me_subit\\'}',\n",
       " '{\\'title\\': \\'Mégalérythème épidémique\\', \\'summary\\': \"Le mégalérythème épidémique, ou l\\'érythème infectieux aigu, également appelé la cinquième maladie ou le syndrome des joues giflées,, est une maladie éruptive de l\\'enfant, contagieuse et le plus souvent bénigne, provoquée par le parvovirus B-19.\\\\nLe nom de la cinquième maladie provient du fait qu\\'à l\\'époque où l\\'on a voulu établir une liste des maladies provoquant un exanthème infantile, elle a été la cinquième à être énumérée.\\\\n\\\\n\\\\n== Historique ==\\\\n\\\\n\\\\n=== Période clinique ===\\\\nLa maladie aurait été signalée dès 1799 par le dermatologue anglais Robert Willan (en) (1757-1812),.\\\\nLa première description précise est celle de 1889 par Anton Tschammer (ou Tschamer), médecin autrichien de Graz, qui observe une épidémie de trente cas de ce qu\\'il considère comme une variété de rubéole. En 1890, Theodor Escherich (1857-1911) propose l\\'hypothèse d\\'une maladie distincte et autonome.\\\\nEn 1899, des auteurs allemands et anglais lui donnent le nom de erythema infectiosum ou fifth disease. Les premiers cas français sont décrits par André Moussous (1857-1926) en 1905 sous le nom de mégalérythème épidémique ou cinquième maladie. Le nombre de cas observés augmente à mesure que la maladie est mieux connue, sous différents noms selon les pays, notamment en Suisse, en Italie et aux États-Unis.\\\\nL\\'hypothèse d\\'une maladie autonome ne fait pas l\\'unanimité. Des auteurs refusent d\\'en faire une maladie spécifique en l\\'envisageant comme une intoxication d\\'origine intestinale, en particulier due au lait.\", \\'url\\': \\'https://fr.wikipedia.org/wiki/M%C3%A9gal%C3%A9ryth%C3%A8me_%C3%A9pid%C3%A9mique\\'}',\n",
       " '{\\'title\\': \\'Rubéole\\', \\'summary\\': \"La rubéole (ou 3e maladie) est une maladie virale épidémique, d\\'incubation voisine de 13 à 20 jours. C\\'est une maladie généralement bénigne qui touche essentiellement les enfants mais qui peut provoquer de graves malformations congénitales lorsque les femmes sont infectées au début de leur grossesse. Le nom de « troisième maladie » provient du fait que, à l\\'époque où l\\'on a voulu établir une liste des maladies provoquant un exanthème infantile, elle a été la troisième à être énumérée.\\\\n\\\\n\\\\n== Historique ==\\\\n\\\\n\\\\n=== Distinction clinique ===\\\\nLa rubéole est longtemps restée indistincte au sein des fièvres éruptives contagieuses. Des auteurs arabes médiévaux auraient distingué une forme atténuée de rougeole, mais la première description clinique très probable de rubéole est attribuée à un médecin allemand, Daniel Sennert en 1619, qui lui donne le nom de rötheln. Cet auteur inaugure toute une série de médecins allemands qui cherchent à individualiser la rubéole durant le XVIIIe siècle, dont  Bergen (1752) et Orlow (1758). \\\\nEn 1815, le britannique William George Maton décrit une maladie bénigne ressemblant à la scarlatine. Durant la première moitié du 19e siècle, l\\'Allemagne connait une grande épidémie de rubéole, appelée rothein.  \\\\nLes Anglais appellent encore parfois cette maladie German measles (rougeole allemande) pour l\\'opposer à la « vraie » rougeole ou English measles.\\\\nEn 1866, Henry Veale, médecin écossais servant aux Indes, publie une série de 30 cas en proposant le terme de rubella (diminutif de rouge en latin) « plus court à écrire et plus facile à prononcer » que les termes German measles ou rothein.\", \\'url\\': \\'https://fr.wikipedia.org/wiki/Rub%C3%A9ole\\'}',\n",
       " '{\\'title\\': \\'Mononucléose infectieuse\\', \\'summary\\': \"La mononucléose infectieuse (MNi) correspond à la primo-infection symptomatique, provoquée par le virus d\\'Epstein-Barr (couramment abrégé en  EBV d\\'après la terminologie anglophone), qui appartient à la même famille que les virus de l’herpès et de la varicelle. Transmise préférentiellement par la salive, on l\\'appelle « maladie du baiser », mais il s\\'agit le plus souvent de gouttelettes, comme la plupart des virus et bactéries. Cette affection fréquente se caractérise par une lymphocytose lympho-plasmo-monocytaire (c\\'est-à-dire un excès de cellules sanguines mononucléaires, d\\'où le terme mononucléose) et une réaction sérologique de Paul-Bunnel-Davidsohn positive. On considère de plus en plus que le suivi des anticorps de l\\'EBV (IgM et IgG) permet de conclure à une MNI si les autres symptômes typiques sont associés chez une personne sans défaillance de son immunité.\\\\nLes différents synonymes pour cette maladie sont : adénolymphoïdite aiguë bénigne, angine monocytaire, lymphoblastose bénigne, monocytose aiguë.\\\\n\\\\n\\\\n== Épidémiologie ==\\\\nIl s\\'agit d\\'une infection extrêmement fréquente, près de 95 % des adultes dans le monde possédant les stigmates biologiques d\\'une ancienne infection. Près de la moitié des contaminations ont lieu avant l\\'âge de cinq ans, mais cette proportion a tendance à diminuer avec le temps dans les pays développés compte tenu des conditions d\\'hygiène. Chez un sujet sur deux, la maladie passe inaperçue (ou faible asthénie) alors que les anticorps EBV témoignent d\\'une contamination ancienne.\\\\nLorsqu\\'elle se développe, la maladie est plus marquée chez l\\'adulte que chez l\\'enfant.\\\\n\\\\n\\\\n== Transmission ==\\\\nElle se transmet par la salive, d’où son surnom de « maladie du baiser ».\", \\'url\\': \\'https://fr.wikipedia.org/wiki/Mononucl%C3%A9ose_infectieuse\\'}',\n",
       " '{\\'title\\': \\'Kawasaki Heavy Industries\\', \\'summary\\': \"Kawasaki Heavy Industries, Ltd. (KHI) (川崎重工業株式会社, Kawasaki Jūkōgyō Kabushiki-gaisha) est une multinationale japonaise spécialisée dans la fabrication de motos, d\\'équipements lourds, d\\'engins militaires, la construction aérospatiale, la construction ferroviaire et les chantiers navals. L\\'entreprise est également présente dans la robotique industrielle et le secteur de l\\'énergie.\\\\nL\\'entreprise dispose d\\'un passé riche. Fondée comme chantier naval par Kawasaki Shōzō en 1878, elle s\\'est appelée Kawasaki Dockyard Co., Ltd. de 1896 à 1969, conservant ainsi la mémoire de ses origines. Mais la diversification, commencée dans l\\'entre-deux-guerres avec la sécurisation des approvisionnements en acier (activité séparée depuis 1950, avec la fondation de Kawasaki Steel), devient l\\'élément constitutif de l’entreprise depuis les années 1950-1960.\\\\nKawasaki Heavy Industries se classait en 2023 au 72e rang mondial pour la production d\\'armement.\\\\n\\\\n\\\\n== Historique ==\\\\n\\\\n\\\\n=== Fondation de Kawasaki dockyard (1878 - 1906) ===\\\\n\\\\nL\\'entreprise tire ses origines de Kawasaki Tsukiji Shipyard, un chantier naval fondé en 1878 à Tokyo par Shozo Kawasaki,. Sa stratégie est alors de se lancer dans la construction navale selon les standards occidentaux.\", \\'url\\': \\'https://fr.wikipedia.org/wiki/Kawasaki_Heavy_Industries\\'}']"
      ]
     },
     "execution_count": 47,
     "metadata": {},
     "output_type": "execute_result"
    }
   ],
   "source": [
    "wiki_test = pd.read_csv('wikipedia_summaries.csv', header=None)\n",
    "wiki_test.iloc[0].tolist()"
   ]
  },
  {
   "cell_type": "code",
   "execution_count": 39,
   "metadata": {},
   "outputs": [
    {
     "data": {
      "text/html": [
       "<div>\n",
       "<style scoped>\n",
       "    .dataframe tbody tr th:only-of-type {\n",
       "        vertical-align: middle;\n",
       "    }\n",
       "\n",
       "    .dataframe tbody tr th {\n",
       "        vertical-align: top;\n",
       "    }\n",
       "\n",
       "    .dataframe thead th {\n",
       "        text-align: right;\n",
       "    }\n",
       "</style>\n",
       "<table border=\"1\" class=\"dataframe\">\n",
       "  <thead>\n",
       "    <tr style=\"text-align: right;\">\n",
       "      <th></th>\n",
       "      <th>0</th>\n",
       "      <th>1</th>\n",
       "      <th>2</th>\n",
       "      <th>3</th>\n",
       "      <th>4</th>\n",
       "    </tr>\n",
       "  </thead>\n",
       "  <tbody>\n",
       "    <tr>\n",
       "      <th>0</th>\n",
       "      <td>{'title': 'Exanthème subit', 'summary': \"L'exa...</td>\n",
       "      <td>{'title': 'Mégalérythème épidémique', 'summary...</td>\n",
       "      <td>{'title': 'Rubéole', 'summary': \"La rubéole (o...</td>\n",
       "      <td>{'title': 'Mononucléose infectieuse', 'summary...</td>\n",
       "      <td>{'title': 'Kawasaki Heavy Industries', 'summar...</td>\n",
       "    </tr>\n",
       "    <tr>\n",
       "      <th>1</th>\n",
       "      <td>{'title': 'C/1996 B2 (Hyakutake)', 'summary': ...</td>\n",
       "      <td>{'title': 'Souffle cardiaque', 'summary': \"Un ...</td>\n",
       "      <td>{'title': 'Turgescence jugulaire', 'summary': ...</td>\n",
       "      <td>{'title': 'Œdème papillaire', 'summary': \"L'œd...</td>\n",
       "      <td>{'title': 'Crépitant', 'summary': \"Les crépita...</td>\n",
       "    </tr>\n",
       "    <tr>\n",
       "      <th>2</th>\n",
       "      <td>{'title': 'Pneumonectomie', 'summary': \"La pne...</td>\n",
       "      <td>{'title': 'Pemphigoïde bulleuse', 'summary': \"...</td>\n",
       "      <td>{'title': 'Lobectomie pulmonaire', 'summary': ...</td>\n",
       "      <td>{'title': 'Mucoviscidose', 'summary': \"Maladie...</td>\n",
       "      <td>{'title': 'Quinolone', 'summary': \"Les quinolo...</td>\n",
       "    </tr>\n",
       "    <tr>\n",
       "      <th>3</th>\n",
       "      <td>{}</td>\n",
       "      <td>{'title': 'Remplissage vasculaire', 'summary':...</td>\n",
       "      <td>{}</td>\n",
       "      <td>{'title': 'Tomodensitométrie', 'summary': \"La ...</td>\n",
       "      <td>{'title': 'Marche sur les eaux', 'summary': \"L...</td>\n",
       "    </tr>\n",
       "    <tr>\n",
       "      <th>4</th>\n",
       "      <td>{'title': 'Aucun', 'summary': \"Aucun est une c...</td>\n",
       "      <td>{'title': 'Tomographie par émission de positon...</td>\n",
       "      <td>{'title': 'Échocardiographie', 'summary': \"L'é...</td>\n",
       "      <td>{'title': 'Myélogramme', 'summary': \"Un myélog...</td>\n",
       "      <td>{'title': 'Scintigraphie osseuse', 'summary': ...</td>\n",
       "    </tr>\n",
       "    <tr>\n",
       "      <th>...</th>\n",
       "      <td>...</td>\n",
       "      <td>...</td>\n",
       "      <td>...</td>\n",
       "      <td>...</td>\n",
       "      <td>...</td>\n",
       "    </tr>\n",
       "    <tr>\n",
       "      <th>98</th>\n",
       "      <td>{}</td>\n",
       "      <td>{}</td>\n",
       "      <td>{'title': 'Comportement', 'summary': \"Le terme...</td>\n",
       "      <td>{}</td>\n",
       "      <td>{'title': 'Poussée', 'summary': \"En aérodynami...</td>\n",
       "    </tr>\n",
       "    <tr>\n",
       "      <th>99</th>\n",
       "      <td>{'title': 'Hypothèse du contact', 'summary': \"...</td>\n",
       "      <td>{'title': 'Stress oxydant', 'summary': \"Le str...</td>\n",
       "      <td>{'title': 'Discipline scientifique', 'summary'...</td>\n",
       "      <td>{'title': 'Réserve héréditaire en France', 'su...</td>\n",
       "      <td>{'title': 'Individu', 'summary': \"Dans le lang...</td>\n",
       "    </tr>\n",
       "    <tr>\n",
       "      <th>100</th>\n",
       "      <td>{}</td>\n",
       "      <td>{'title': 'Devoir de réserve dans la fonction ...</td>\n",
       "      <td>{}</td>\n",
       "      <td>{}</td>\n",
       "      <td>{'title': 'Infarctus du myocarde', 'summary': ...</td>\n",
       "    </tr>\n",
       "    <tr>\n",
       "      <th>101</th>\n",
       "      <td>{'title': 'Prothrombine', 'summary': \"La proth...</td>\n",
       "      <td>{}</td>\n",
       "      <td>{'title': 'Tomodensitométrie', 'summary': \"La ...</td>\n",
       "      <td>{'title': 'Héparine', 'summary': \"L’héparine (...</td>\n",
       "      <td>{'title': 'Antagoniste de la vitamine K', 'sum...</td>\n",
       "    </tr>\n",
       "    <tr>\n",
       "      <th>102</th>\n",
       "      <td>{'title': 'Perte sèche', 'summary': \"La perte ...</td>\n",
       "      <td>{'title': 'Indice de masse corporelle', 'summa...</td>\n",
       "      <td>{'title': 'The Normal Heart (téléfilm)', 'summ...</td>\n",
       "      <td>{'title': \"Liste d'abréviations en médecine\", ...</td>\n",
       "      <td>{'title': 'Albuminémie', 'summary': \"L’albumin...</td>\n",
       "    </tr>\n",
       "  </tbody>\n",
       "</table>\n",
       "<p>103 rows × 5 columns</p>\n",
       "</div>"
      ],
      "text/plain": [
       "                                                     0  \\\n",
       "0    {'title': 'Exanthème subit', 'summary': \"L'exa...   \n",
       "1    {'title': 'C/1996 B2 (Hyakutake)', 'summary': ...   \n",
       "2    {'title': 'Pneumonectomie', 'summary': \"La pne...   \n",
       "3                                                   {}   \n",
       "4    {'title': 'Aucun', 'summary': \"Aucun est une c...   \n",
       "..                                                 ...   \n",
       "98                                                  {}   \n",
       "99   {'title': 'Hypothèse du contact', 'summary': \"...   \n",
       "100                                                 {}   \n",
       "101  {'title': 'Prothrombine', 'summary': \"La proth...   \n",
       "102  {'title': 'Perte sèche', 'summary': \"La perte ...   \n",
       "\n",
       "                                                     1  \\\n",
       "0    {'title': 'Mégalérythème épidémique', 'summary...   \n",
       "1    {'title': 'Souffle cardiaque', 'summary': \"Un ...   \n",
       "2    {'title': 'Pemphigoïde bulleuse', 'summary': \"...   \n",
       "3    {'title': 'Remplissage vasculaire', 'summary':...   \n",
       "4    {'title': 'Tomographie par émission de positon...   \n",
       "..                                                 ...   \n",
       "98                                                  {}   \n",
       "99   {'title': 'Stress oxydant', 'summary': \"Le str...   \n",
       "100  {'title': 'Devoir de réserve dans la fonction ...   \n",
       "101                                                 {}   \n",
       "102  {'title': 'Indice de masse corporelle', 'summa...   \n",
       "\n",
       "                                                     2  \\\n",
       "0    {'title': 'Rubéole', 'summary': \"La rubéole (o...   \n",
       "1    {'title': 'Turgescence jugulaire', 'summary': ...   \n",
       "2    {'title': 'Lobectomie pulmonaire', 'summary': ...   \n",
       "3                                                   {}   \n",
       "4    {'title': 'Échocardiographie', 'summary': \"L'é...   \n",
       "..                                                 ...   \n",
       "98   {'title': 'Comportement', 'summary': \"Le terme...   \n",
       "99   {'title': 'Discipline scientifique', 'summary'...   \n",
       "100                                                 {}   \n",
       "101  {'title': 'Tomodensitométrie', 'summary': \"La ...   \n",
       "102  {'title': 'The Normal Heart (téléfilm)', 'summ...   \n",
       "\n",
       "                                                     3  \\\n",
       "0    {'title': 'Mononucléose infectieuse', 'summary...   \n",
       "1    {'title': 'Œdème papillaire', 'summary': \"L'œd...   \n",
       "2    {'title': 'Mucoviscidose', 'summary': \"Maladie...   \n",
       "3    {'title': 'Tomodensitométrie', 'summary': \"La ...   \n",
       "4    {'title': 'Myélogramme', 'summary': \"Un myélog...   \n",
       "..                                                 ...   \n",
       "98                                                  {}   \n",
       "99   {'title': 'Réserve héréditaire en France', 'su...   \n",
       "100                                                 {}   \n",
       "101  {'title': 'Héparine', 'summary': \"L’héparine (...   \n",
       "102  {'title': \"Liste d'abréviations en médecine\", ...   \n",
       "\n",
       "                                                     4  \n",
       "0    {'title': 'Kawasaki Heavy Industries', 'summar...  \n",
       "1    {'title': 'Crépitant', 'summary': \"Les crépita...  \n",
       "2    {'title': 'Quinolone', 'summary': \"Les quinolo...  \n",
       "3    {'title': 'Marche sur les eaux', 'summary': \"L...  \n",
       "4    {'title': 'Scintigraphie osseuse', 'summary': ...  \n",
       "..                                                 ...  \n",
       "98   {'title': 'Poussée', 'summary': \"En aérodynami...  \n",
       "99   {'title': 'Individu', 'summary': \"Dans le lang...  \n",
       "100  {'title': 'Infarctus du myocarde', 'summary': ...  \n",
       "101  {'title': 'Antagoniste de la vitamine K', 'sum...  \n",
       "102  {'title': 'Albuminémie', 'summary': \"L’albumin...  \n",
       "\n",
       "[103 rows x 5 columns]"
      ]
     },
     "execution_count": 39,
     "metadata": {},
     "output_type": "execute_result"
    }
   ],
   "source": [
    "wiki_test"
   ]
  },
  {
   "cell_type": "code",
   "execution_count": null,
   "metadata": {},
   "outputs": [],
   "source": []
  }
 ],
 "metadata": {
  "kernelspec": {
   "display_name": "dac_env",
   "language": "python",
   "name": "python3"
  },
  "language_info": {
   "codemirror_mode": {
    "name": "ipython",
    "version": 3
   },
   "file_extension": ".py",
   "mimetype": "text/x-python",
   "name": "python",
   "nbconvert_exporter": "python",
   "pygments_lexer": "ipython3",
   "version": "3.9.19"
  },
  "orig_nbformat": 4,
  "vscode": {
   "interpreter": {
    "hash": "424e95bf5de250ac927228ed3185dfd2d42c497ade721b59c3c97ffc315799b7"
   }
  }
 },
 "nbformat": 4,
 "nbformat_minor": 2
}
