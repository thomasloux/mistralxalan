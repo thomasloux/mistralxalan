{
 "cells": [
  {
   "cell_type": "code",
   "execution_count": 2,
   "metadata": {},
   "outputs": [],
   "source": [
    "import pandas as pd\n",
    "from tqdm import tqdm\n",
    "from mistralai import Mistral\n",
    "import time\n",
    "import re\n",
    "\n",
    "api_key = None\n"
   ]
  },
  {
   "cell_type": "code",
   "execution_count": 3,
   "metadata": {},
   "outputs": [],
   "source": [
    "chunks_df = pd.read_csv('merged_chunks.csv')\n",
    "questions = pd.read_csv('questions.csv')\n",
    "wikipedia_summaries = pd.read_csv('wikipedia_summaries.csv', header=None)"
   ]
  },
  {
   "cell_type": "code",
   "execution_count": 28,
   "metadata": {},
   "outputs": [],
   "source": [
    "def generate_prompt_reflexion_with_sources_and_answer(body, possible_answer_a, possible_answer_b, possible_answer_c, possible_answer_d, possible_answer_e, chunks, wikipedia_summaries, reflexion_allowed):\n",
    "    prompt = \"Vous êtes un expert en médecine, santé et biologie. Pour la question suivante, évaluez attentivement chaque réponse.\\n\"\n",
    "    if reflexion_allowed :\n",
    "        prompt += \"Souvent, une seule réponse est correcte. Réfléchissez bien et écrivez votre raisonnement brièvement avant de donner votre réponse finale.\\n\"\n",
    "    else:\n",
    "        prompt += \"Souvent, une seule réponse est correcte. Réfléchissez bien mais n'écrivez pas votre raisonnement avant de donner votre réponse finale.\\n\"\n",
    "    prompt += \"À la fin de votre raisonnement, fournissez la ou les réponse(s) au format '[A]', ou '[A,B,C]', par exemple.\\n\"\n",
    "    prompt += \"Votre réponse finale doit être une liste de lettres sans crochets et sans espaces, triées par ordre alphabétique.\\n\\n\"\n",
    "    prompt += f\"Question : {body}\\n\"\n",
    "    prompt += f\"A : {possible_answer_a}\\n\"\n",
    "    prompt += f\"B : {possible_answer_b}\\n\"\n",
    "    prompt += f\"C : {possible_answer_c}\\n\"\n",
    "    prompt += f\"D : {possible_answer_d}\\n\"\n",
    "    prompt += f\"E : {possible_answer_e}\\n\\n\"\n",
    "\n",
    "    prompt += \"Pour chaque réponse possible, vous disposez des informations supplémentaires suivantes :\\n\"\n",
    "    prompt += f\"A : A wikipedia article related : {wikipedia_summaries[0][:500]}\"\n",
    "    prompt += f\"A : Some more informations : {chunks[0][:400]}\\n\"\n",
    "    prompt += f\"B : A wikipedia article related : {wikipedia_summaries[1][:500]}\"\n",
    "    prompt += f\"B : Some more informations : {chunks[1][:400]}\\n\"\n",
    "    prompt += f\"C : A wikipedia article related : {wikipedia_summaries[2][:500]}\"\n",
    "    prompt += f\"C : Some more informations : {chunks[2][:400]}\\n\"\n",
    "    prompt += f\"D : A wikipedia article related : {wikipedia_summaries[3][:500]}\"\n",
    "    prompt += f\"D : Some more informations : {chunks[3][:400]}\\n\"\n",
    "    prompt += f\"E : A wikipedia article related : {wikipedia_summaries[4][:500]}\"\n",
    "    prompt += f\"E : Some more informations : {chunks[4][:400]}\\n\\n\"\n",
    "\n",
    "    prompt += \"Si aucune information supplémentaire n'est fournie pour une certaine réponse, cela peut signifier que cette réponse n'est pas liée à la question, augmentant la probabilité qu'elle soit fausse.\\n\\n\"\n",
    "\n",
    "    prompt += \"Je vous rappelle que votre réponse doit être parmi :\\n\"\n",
    "    prompt += f\"A : {possible_answer_a}\\n\"\n",
    "    prompt += f\"B : {possible_answer_b}\\n\"\n",
    "    prompt += f\"C : {possible_answer_c}\\n\"\n",
    "    prompt += f\"D : {possible_answer_d}\\n\"\n",
    "    prompt += f\"E : {possible_answer_e}\\n\\n\"\n",
    "\n",
    "    if reflexion_allowed:\n",
    "        prompt += \"Vous êtes un expert en médecine, santé et biologie : ne manquez pas votre réponse. Souvent, une seule réponse est correcte. Ecrivez un raisonnement plutôt bref, puis fournissez votre réponse finale sous la forme [A] ou [B,D,E] par exemple :\\n\"\n",
    "    else:\n",
    "        prompt += \"Vous êtes un expert en médecine, santé et biologie : ne manquez pas votre réponse. Souvent, une seule réponse est correcte. N'écrivez pas de raisonnement, fournissez votre réponse finale sous la forme 'A' ou 'B,D,E' (séparez bien par des virgules les différentes lettres et mettez les entre des guillemets'') par exemple ici :\\n\"\n",
    "\n",
    "    return prompt"
   ]
  },
  {
   "cell_type": "code",
   "execution_count": 5,
   "metadata": {},
   "outputs": [],
   "source": [
    "def answer_prompt_with_Mistral(prompt, temperature=0.):\n",
    "    client = Mistral(api_key=api_key)\n",
    "    chat_response = client.chat.complete(\n",
    "                model=\"mistral-large-latest\",\n",
    "                messages=[\n",
    "                    {\n",
    "                        \"role\": \"user\",\n",
    "                        \"content\": prompt\n",
    "                    },\n",
    "                ],\n",
    "                temperature=temperature\n",
    "            )\n",
    "    return chat_response.choices[0].message.content"
   ]
  },
  {
   "cell_type": "code",
   "execution_count": 26,
   "metadata": {},
   "outputs": [],
   "source": [
    "def get_submission_file(chunks, wikipedia_summaries, q, reflexion_allowed):\n",
    "\n",
    "    def inserer_virgules(answer):\n",
    "        nouvelle_chaine = \"\"\n",
    "        for i in range(len(answer)):\n",
    "            nouvelle_chaine += answer[i]\n",
    "            if i < len(answer) - 1 and answer[i].isalpha() and answer[i+1].isalpha():\n",
    "                nouvelle_chaine += \",\"\n",
    "        return nouvelle_chaine\n",
    "\n",
    "    submission = []\n",
    "    for i in tqdm(range(len(chunks_df))):\n",
    "    # for i in tqdm(range(10)):\n",
    "        chunks_i = chunks.iloc[i].tolist()\n",
    "        wikipedia_summaries_i = wikipedia_summaries.iloc[i]\n",
    "        prompt = generate_prompt_reflexion_with_sources_and_answer(q.iloc[i]['question'], q.iloc[i]['answer_A'],\n",
    "                                                                   q.iloc[i]['answer_B'], q.iloc[i]['answer_C'],\n",
    "                                                                    q.iloc[i]['answer_D'], q.iloc[i]['answer_E'],\n",
    "                                                                    chunks=chunks_i, wikipedia_summaries=wikipedia_summaries_i,\n",
    "                                                                    reflexion_allowed=reflexion_allowed)\n",
    "        while True:\n",
    "            try:\n",
    "                answer = answer_prompt_with_Mistral(prompt, temperature=0.)\n",
    "                break\n",
    "            except:\n",
    "                time.sleep(1)\n",
    "        submission.append(answer)\n",
    "    submission_df = pd.DataFrame(submission)\n",
    "    submission_df.columns = ['Answer']\n",
    "    submission_df.index.name = 'id'\n",
    "\n",
    "    for i in range(len(submission_df)):\n",
    "        submission_df['Answer'][i] = inserer_virgules(submission_df['Answer'][i]) \n",
    "    submission_df.to_csv('submission.csv')\n",
    "    return submission    "
   ]
  },
  {
   "cell_type": "code",
   "execution_count": 29,
   "metadata": {},
   "outputs": [
    {
     "name": "stderr",
     "output_type": "stream",
     "text": [
      "100%|██████████| 103/103 [27:26<00:00, 15.98s/it]\n",
      "/var/folders/l5/v7xs7rjj7471_h1k0y_1ygxw0000gp/T/ipykernel_3075/425641457.py:33: FutureWarning: ChainedAssignmentError: behaviour will change in pandas 3.0!\n",
      "You are setting values through chained assignment. Currently this works in certain cases, but when using Copy-on-Write (which will become the default behaviour in pandas 3.0) this will never work to update the original DataFrame or Series, because the intermediate object on which we are setting values will behave as a copy.\n",
      "A typical example is when you are setting values in a column of a DataFrame, like:\n",
      "\n",
      "df[\"col\"][row_indexer] = value\n",
      "\n",
      "Use `df.loc[row_indexer, \"col\"] = values` instead, to perform the assignment in a single step and ensure this keeps updating the original `df`.\n",
      "\n",
      "See the caveats in the documentation: https://pandas.pydata.org/pandas-docs/stable/user_guide/indexing.html#returning-a-view-versus-a-copy\n",
      "\n",
      "  submission_df['Answer'][i] = inserer_virgules(submission_df['Answer'][i])\n"
     ]
    }
   ],
   "source": [
    "sub = get_submission_file(chunks_df, wikipedia_summaries, questions, reflexion_allowed=True)"
   ]
  }
 ],
 "metadata": {
  "kernelspec": {
   "display_name": "dac_env",
   "language": "python",
   "name": "python3"
  },
  "language_info": {
   "codemirror_mode": {
    "name": "ipython",
    "version": 3
   },
   "file_extension": ".py",
   "mimetype": "text/x-python",
   "name": "python",
   "nbconvert_exporter": "python",
   "pygments_lexer": "ipython3",
   "version": "3.9.19"
  },
  "orig_nbformat": 4,
  "vscode": {
   "interpreter": {
    "hash": "424e95bf5de250ac927228ed3185dfd2d42c497ade721b59c3c97ffc315799b7"
   }
  }
 },
 "nbformat": 4,
 "nbformat_minor": 2
}
